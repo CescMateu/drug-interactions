{
 "cells": [
  {
   "cell_type": "markdown",
   "metadata": {},
   "source": [
    "# Drug-Drug Interaction Classifier"
   ]
  },
  {
   "cell_type": "code",
   "execution_count": 43,
   "metadata": {},
   "outputs": [],
   "source": [
    "#import xml.etree.ElementTree as ET\n",
    "from lxml import etree\n",
    "from os import listdir\n",
    "import pandas as pd\n",
    "import numpy as np\n",
    "import re"
   ]
  },
  {
   "cell_type": "markdown",
   "metadata": {},
   "source": [
    "### Directories for  CESC"
   ]
  },
  {
   "cell_type": "code",
   "execution_count": 1,
   "metadata": {
    "scrolled": true
   },
   "outputs": [
    {
     "data": {
      "text/plain": [
       "\"\\ntrain_dir = '../LaboCase/Train/'\\ndirs_whereto_parse = [train_dir+'/test_DrugBank']\\n\""
      ]
     },
     "execution_count": 1,
     "metadata": {},
     "output_type": "execute_result"
    }
   ],
   "source": [
    "'''\n",
    "train_dir = '../LaboCase/Train/'\n",
    "dirs_whereto_parse = [train_dir+'/test_DrugBank']\n",
    "'''"
   ]
  },
  {
   "cell_type": "markdown",
   "metadata": {},
   "source": [
    "### Directories for Miki"
   ]
  },
  {
   "cell_type": "code",
   "execution_count": 45,
   "metadata": {},
   "outputs": [
    {
     "data": {
      "text/plain": [
       "\"\\ntrain_dir = '/Users/miqueltubaupires/Documents/Master/3r QUATRIMESTRE/AHLT/Lab/ddi/'\\ntrain_dirs_whereto_parse = [train_dir+'/Small Train']\\n\\ntest_dir = '/Users/miqueltubaupires/Documents/Master/3r QUATRIMESTRE/AHLT/Lab/ddi/'\\ntest_dirs_whereto_parse = [test_dir+'/Small Test']\\n\""
      ]
     },
     "execution_count": 45,
     "metadata": {},
     "output_type": "execute_result"
    }
   ],
   "source": [
    "'''\n",
    "train_dir = '/Users/miqueltubaupires/Documents/Master/3r QUATRIMESTRE/AHLT/Lab/ddi/Train'\n",
    "train_dirs_whereto_parse = [train_dir+'/DrugBank',train_dir+'/MedLine']\n",
    "test_dir = '/Users/miqueltubaupires/Documents/Master/3r QUATRIMESTRE/AHLT/Lab/ddi/Test'\n",
    "test_dirs_whereto_parse = [test_dir+'/DrugBankOutput',test_dir+'/MedLineOutput']\n",
    "'''\n",
    "\n",
    "train_dir = '/Users/miqueltubaupires/Documents/Master/3r QUATRIMESTRE/AHLT/Lab/ddi/'\n",
    "train_dirs_whereto_parse = [train_dir+'/Small Train']\n",
    "\n",
    "test_dir = '/Users/miqueltubaupires/Documents/Master/3r QUATRIMESTRE/AHLT/Lab/ddi/'\n",
    "test_dirs_whereto_parse = [test_dir+'/Small Test']\n"
   ]
  },
  {
   "cell_type": "markdown",
   "metadata": {},
   "source": [
    "##### Reading train data\n",
    "Accessing to all the files of the directory and storing id's and text's in two arrays.\n",
    "We have also added the tokens 'START' and 'STOP' at the beginning and end of the sentences."
   ]
  },
  {
   "cell_type": "code",
   "execution_count": 46,
   "metadata": {},
   "outputs": [],
   "source": [
    "entities=[]\n",
    "texts=[]\n",
    "train_texts_entities = []\n",
    "\n",
    "for directory in train_dirs_whereto_parse:\n",
    "    name_files=listdir(directory)   # querying all the files that are in that directory\n",
    "    # Parse all these xml files\n",
    "    roots = [etree.parse(directory+'/'+a).getroot() for a in name_files if a.endswith('.xml')]\n",
    "    for root in roots:\n",
    "        for sentence in root.findall('sentence'):\n",
    "            for entity in sentence.findall('entity'):\n",
    "                entities = entities+[entity.get('text')]\n",
    "            train_texts_entities = train_texts_entities + [('START ' + sentence.get('text') + ' STOP',entities)]\n",
    "            entities =[]\n",
    "\n",
    "# train_texts_entities is a list of tuples. Each one is comprised of the sentence and the drugs in there\n",
    "# print(texts_entities[0])\n"
   ]
  },
  {
   "cell_type": "markdown",
   "metadata": {},
   "source": [
    "##### Reading test data"
   ]
  },
  {
   "cell_type": "code",
   "execution_count": 47,
   "metadata": {},
   "outputs": [
    {
     "name": "stdout",
     "output_type": "stream",
     "text": [
      "('Consult your doctor or pharmacist if you are taking any of the following: seizure medications antibiotics warfarin medications to help you sleep\\n', ['warfarin', 'antibiotics'])\n"
     ]
    }
   ],
   "source": [
    "test_texts = []\n",
    "test_entities = []\n",
    "for directory in test_dirs_whereto_parse:\n",
    "    name_files = listdir(directory)\n",
    "    # Si no poso el sorted, em llegeix els files amb un ordre aleatori.\n",
    "    # Amb el sorted m'asseguro que els corresponents files text.txt i entities.txt estan en la mateixa posicio\n",
    "    text_file_names = sorted([directory+'/'+a for a in name_files if a.endswith('text.txt')])\n",
    "    entities_file_names = sorted([directory+'/'+a for a in name_files if a.endswith('entities.txt')])\n",
    "    for file in text_file_names:\n",
    "        file = open(file,'r')\n",
    "        test_texts = test_texts + [file.read()]\n",
    "    for file in entities_file_names:\n",
    "        read_entities = []\n",
    "        with open(file,'r') as f:\n",
    "            for line in f:\n",
    "                read_entities = read_entities+[' '.join(line.split()[0:-1])] # separo en words, el.limino la ultima i torno a unir\n",
    "        test_entities.append(read_entities)\n",
    "        \n",
    "# test_texts_entities is a list of tuples. Each one is comprised of the sentence and the drugs in there\n",
    "test_texts_entities=list(zip(test_texts,test_entities))\n",
    "print(test_texts_entities[4])"
   ]
  }
 ],
 "metadata": {
  "kernelspec": {
   "display_name": "Python 3",
   "language": "python",
   "name": "python3"
  },
  "language_info": {
   "codemirror_mode": {
    "name": "ipython",
    "version": 3
   },
   "file_extension": ".py",
   "mimetype": "text/x-python",
   "name": "python",
   "nbconvert_exporter": "python",
   "pygments_lexer": "ipython3",
   "version": "3.6.4"
  }
 },
 "nbformat": 4,
 "nbformat_minor": 2
}
