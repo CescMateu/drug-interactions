{
 "cells": [
  {
   "cell_type": "markdown",
   "metadata": {},
   "source": [
    "# AHLT - MIRI\n",
    "# Drugs Interaction Classifier"
   ]
  },
  {
   "cell_type": "code",
   "execution_count": 1,
   "metadata": {
    "collapsed": false
   },
   "outputs": [],
   "source": [
    "# Data processing libraries\n",
    "import pandas as pd\n",
    "import numpy as np\n",
    "\n",
    "# NLP libraries\n",
    "import nltk\n",
    "from nltk.tag import StanfordPOSTagger\n",
    "\n",
    "# Machine Learning Libraries\n",
    "from IPython.display import display # For displaying DataFrames correctly in Jupyter\n",
    "from sklearn import svm\n",
    "import scipy.stats # for RandomizedSearchCV\n",
    "from sklearn.model_selection import GridSearchCV, RandomizedSearchCV,KFold # Parameter selection\n",
    "\n",
    "# Other libraries\n",
    "import time # Execution time of some blocks\n",
    "import statistics\n",
    "\n",
    "# Import our own defined functions\n",
    "from xlm_parsers_functions import *\n",
    "from drug_interaction_functions import *"
   ]
  },
  {
   "cell_type": "markdown",
   "metadata": {},
   "source": [
    "## Objectives of this part\n",
    "In this second part of the project, we will focus on two different things: \n",
    "1. Detection of interactions between drugs\n",
    "2. Classification of each drug-drug interaction according to one of the following types:\n",
    "    - Advice: 'Interactions may be expected, and Uroxatral should not be used in combination with other alpha-blockers.'\n",
    "    - Effect: 'In uninfected volunteers, 46% developed rash while receiving Sustiva and Clarithromycin.'\n",
    "    - Mechanism: 'Grepafloxacin is a competitive inhibitor of the metabolism of theophylline'.\n",
    "    - Int: The interaction of omeprazole and ketoconazole has been stablished."
   ]
  },
  {
   "cell_type": "markdown",
   "metadata": {},
   "source": [
    "## Parsing the XML Files"
   ]
  },
  {
   "cell_type": "markdown",
   "metadata": {},
   "source": [
    "### DrugBank and MedLine files"
   ]
  },
  {
   "cell_type": "code",
   "execution_count": 2,
   "metadata": {
    "collapsed": false
   },
   "outputs": [],
   "source": [
    "# Define the data paths\n",
    "train_data_dir = 'data/small_train_DrugBank/'\n",
    "test_data_dir = 'data/small_test_DrugBank/'\n",
    "\n",
    "# Read the data from the specified directories\n",
    "DrugBank_df = readTrainingData(train_data_dir)\n",
    "\n",
    "# Select the initial columns from which we will compute the features for each row\n",
    "train_df = DrugBank_df[['sentence_text', 'e1_name', 'e2_name', 'list_entities', 'interaction']]"
   ]
  },
  {
   "cell_type": "markdown",
   "metadata": {},
   "source": [
    "## Creation of features\n",
    "Before training our model, we need to come up with features to help us determine whether there is a relationship between the two drugs or not.\n",
    "\n",
    "Some ideas for features are the following:\n",
    "- Does the sentence contain a modal verb (should, must,...) between the two entities?\n",
    "- Word bigrams: This is a binary feature for all word bigrams that appeared more than once in the corpus, indicating the presence or absence of each such bigram in the sentence\n",
    "- Number of words between a pair of drugs\n",
    "- Number of drugs between a pair of drugs\n",
    "- POS of words between a pair of drugs: This is a binary feature for word POS tags obtained from POS tagging, and indicates the presence or absence of each POS between the two main drugs.\n",
    "- Path between a pair of drugs: Path between two main drugs in the parse tree is another feature in our system. Because syntactic paths are in general a sparse feature, we reduced the sparsity by collapsing identical adjacent non-terminal labels. E.g., NP-S-VP-VP-NP is converted to NP-S-VP-NP. This technique decreased the number of paths by 24.8%."
   ]
  },
  {
   "cell_type": "code",
   "execution_count": 3,
   "metadata": {
    "collapsed": false
   },
   "outputs": [
    {
     "data": {
      "text/html": [
       "<div>\n",
       "<style>\n",
       "    .dataframe thead tr:only-child th {\n",
       "        text-align: right;\n",
       "    }\n",
       "\n",
       "    .dataframe thead th {\n",
       "        text-align: left;\n",
       "    }\n",
       "\n",
       "    .dataframe tbody tr th {\n",
       "        vertical-align: top;\n",
       "    }\n",
       "</style>\n",
       "<table border=\"1\" class=\"dataframe\">\n",
       "  <thead>\n",
       "    <tr style=\"text-align: right;\">\n",
       "      <th></th>\n",
       "      <th>sentence_text</th>\n",
       "      <th>e1_name</th>\n",
       "      <th>e2_name</th>\n",
       "      <th>list_entities</th>\n",
       "      <th>interaction</th>\n",
       "      <th>n_modal_verbs_bw_entities</th>\n",
       "      <th>n_tokens_bw_entities</th>\n",
       "      <th>n_entities_bw_entities</th>\n",
       "    </tr>\n",
       "  </thead>\n",
       "  <tbody>\n",
       "    <tr>\n",
       "      <th>0</th>\n",
       "      <td>Population pharmacokinetic analyses revealed t...</td>\n",
       "      <td>MTX</td>\n",
       "      <td>NSAIDs</td>\n",
       "      <td>[MTX, NSAIDs, corticosteroids, TNF blocking ag...</td>\n",
       "      <td>false</td>\n",
       "      <td>0</td>\n",
       "      <td>2</td>\n",
       "      <td>0</td>\n",
       "    </tr>\n",
       "    <tr>\n",
       "      <th>1</th>\n",
       "      <td>Population pharmacokinetic analyses revealed t...</td>\n",
       "      <td>MTX</td>\n",
       "      <td>corticosteroids</td>\n",
       "      <td>[MTX, NSAIDs, corticosteroids, TNF blocking ag...</td>\n",
       "      <td>false</td>\n",
       "      <td>0</td>\n",
       "      <td>4</td>\n",
       "      <td>1</td>\n",
       "    </tr>\n",
       "    <tr>\n",
       "      <th>2</th>\n",
       "      <td>Population pharmacokinetic analyses revealed t...</td>\n",
       "      <td>MTX</td>\n",
       "      <td>TNF blocking agents</td>\n",
       "      <td>[MTX, NSAIDs, corticosteroids, TNF blocking ag...</td>\n",
       "      <td>false</td>\n",
       "      <td>0</td>\n",
       "      <td>7</td>\n",
       "      <td>2</td>\n",
       "    </tr>\n",
       "    <tr>\n",
       "      <th>3</th>\n",
       "      <td>Population pharmacokinetic analyses revealed t...</td>\n",
       "      <td>MTX</td>\n",
       "      <td>abatacept</td>\n",
       "      <td>[MTX, NSAIDs, corticosteroids, TNF blocking ag...</td>\n",
       "      <td>false</td>\n",
       "      <td>0</td>\n",
       "      <td>13</td>\n",
       "      <td>3</td>\n",
       "    </tr>\n",
       "    <tr>\n",
       "      <th>4</th>\n",
       "      <td>Population pharmacokinetic analyses revealed t...</td>\n",
       "      <td>NSAIDs</td>\n",
       "      <td>corticosteroids</td>\n",
       "      <td>[MTX, NSAIDs, corticosteroids, TNF blocking ag...</td>\n",
       "      <td>false</td>\n",
       "      <td>0</td>\n",
       "      <td>2</td>\n",
       "      <td>0</td>\n",
       "    </tr>\n",
       "  </tbody>\n",
       "</table>\n",
       "</div>"
      ],
      "text/plain": [
       "                                       sentence_text e1_name  \\\n",
       "0  Population pharmacokinetic analyses revealed t...     MTX   \n",
       "1  Population pharmacokinetic analyses revealed t...     MTX   \n",
       "2  Population pharmacokinetic analyses revealed t...     MTX   \n",
       "3  Population pharmacokinetic analyses revealed t...     MTX   \n",
       "4  Population pharmacokinetic analyses revealed t...  NSAIDs   \n",
       "\n",
       "               e2_name                                      list_entities  \\\n",
       "0               NSAIDs  [MTX, NSAIDs, corticosteroids, TNF blocking ag...   \n",
       "1      corticosteroids  [MTX, NSAIDs, corticosteroids, TNF blocking ag...   \n",
       "2  TNF blocking agents  [MTX, NSAIDs, corticosteroids, TNF blocking ag...   \n",
       "3            abatacept  [MTX, NSAIDs, corticosteroids, TNF blocking ag...   \n",
       "4      corticosteroids  [MTX, NSAIDs, corticosteroids, TNF blocking ag...   \n",
       "\n",
       "  interaction  n_modal_verbs_bw_entities  n_tokens_bw_entities  \\\n",
       "0       false                          0                     2   \n",
       "1       false                          0                     4   \n",
       "2       false                          0                     7   \n",
       "3       false                          0                    13   \n",
       "4       false                          0                     2   \n",
       "\n",
       "   n_entities_bw_entities  \n",
       "0                       0  \n",
       "1                       1  \n",
       "2                       2  \n",
       "3                       3  \n",
       "4                       0  "
      ]
     },
     "execution_count": 3,
     "metadata": {},
     "output_type": "execute_result"
    }
   ],
   "source": [
    "train_df = createFeatures(train_df)\n",
    "train_df.head()"
   ]
  },
  {
   "cell_type": "markdown",
   "metadata": {
    "collapsed": true
   },
   "source": [
    "## Building the classifier - SVM\n",
    "\n",
    "### Creation of the training, validation and testing datasets"
   ]
  },
  {
   "cell_type": "code",
   "execution_count": null,
   "metadata": {
    "collapsed": false
   },
   "outputs": [],
   "source": [
    "# Name of the target variable\n",
    "target_name = 'interaction'\n",
    "sentence_name = 'sentence_text'\n",
    "list_entities_name = 'list_entities'\n",
    "ent_1_name = 'e1_name'\n",
    "ent_2_name = 'e2_name'\n",
    "\n",
    "# Create the appropiate data structure to pass it to the SVM.\n",
    "# X columns should be all but target_name and token_name\n",
    "X_train = train_df.loc[:, [all(x) for x in list(zip(\n",
    "                train_df.columns != sentence_name, \n",
    "                train_df.columns != target_name,\n",
    "                train_df.columns != list_entities_name,\n",
    "                train_df.columns != ent_1_name,\n",
    "                train_df.columns != ent_2_name))]]\n",
    "Y_train = train_df[target_name]"
   ]
  },
  {
   "cell_type": "code",
   "execution_count": null,
   "metadata": {
    "collapsed": false
   },
   "outputs": [],
   "source": [
    "display(X_train.head())\n",
    "display(Y_train.head())"
   ]
  },
  {
   "cell_type": "markdown",
   "metadata": {},
   "source": [
    "We will create a validation dataset that contains 30% of the original data."
   ]
  },
  {
   "cell_type": "code",
   "execution_count": null,
   "metadata": {
    "collapsed": false
   },
   "outputs": [],
   "source": [
    "validation_df = train_df.sample(frac=0.3)\n",
    "X_val = validation_df.loc[:, [all(x) for x in list(zip(\n",
    "                validation_df.columns != sentence_name,\n",
    "                validation_df.columns != target_name,\n",
    "                validation_df.columns != list_entities_name,\n",
    "                validation_df.columns != ent_1_name,\n",
    "                validation_df.columns != ent_2_name))]]\n",
    "Y_val = validation_df[target_name]"
   ]
  },
  {
   "cell_type": "markdown",
   "metadata": {
    "collapsed": false
   },
   "source": [
    "## Model selection"
   ]
  },
  {
   "cell_type": "code",
   "execution_count": null,
   "metadata": {
    "collapsed": false
   },
   "outputs": [],
   "source": [
    "# Create a SVM object with the corresponding tunned parameters\n",
    "svc = svm.SVC()\n",
    "\n",
    "# Look for the best parameters of the SVM model with GridSearchCV\n",
    "start = time.time()\n",
    "clf = RandomizedSearchCV(svc,{'C': scipy.stats.expon(scale=100), 'gamma': scipy.stats.expon(scale=.1),\n",
    "                              'kernel': ['rbf'], 'class_weight':['balanced', None]},n_iter=40,n_jobs=-1)\n",
    "clf.fit(X_val,Y_val)\n",
    "end = time.time()\n",
    "print('Validating time of the SVM: ', str(end - start),'\\n')\n",
    "\n",
    "print('Best estimator: ', clf.best_estimator_)"
   ]
  },
  {
   "cell_type": "code",
   "execution_count": null,
   "metadata": {
    "collapsed": false
   },
   "outputs": [],
   "source": [
    "# Train the SVM model with the parameters selected before\n",
    "start = time.time()\n",
    "model = clf.best_estimator_\n",
    "model.fit(X_train,Y_train)\n",
    "end = time.time()\n",
    "print('Training time of the SVM: ', str(end - start))"
   ]
  },
  {
   "cell_type": "code",
   "execution_count": null,
   "metadata": {
    "collapsed": true
   },
   "outputs": [],
   "source": []
  }
 ],
 "metadata": {
  "anaconda-cloud": {},
  "kernelspec": {
   "display_name": "Python [Root]",
   "language": "python",
   "name": "Python [Root]"
  },
  "language_info": {
   "codemirror_mode": {
    "name": "ipython",
    "version": 3
   },
   "file_extension": ".py",
   "mimetype": "text/x-python",
   "name": "python",
   "nbconvert_exporter": "python",
   "pygments_lexer": "ipython3",
   "version": "3.5.2"
  }
 },
 "nbformat": 4,
 "nbformat_minor": 2
}
