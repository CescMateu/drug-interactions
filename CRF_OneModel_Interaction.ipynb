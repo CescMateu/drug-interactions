{
 "cells": [
  {
   "cell_type": "code",
   "execution_count": 1,
   "metadata": {
    "collapsed": false
   },
   "outputs": [
    {
     "name": "stderr",
     "output_type": "stream",
     "text": [
      "/Users/cesc/Anaconda3/anaconda/lib/python3.5/site-packages/sklearn/cross_validation.py:41: DeprecationWarning: This module was deprecated in version 0.18 in favor of the model_selection module into which all the refactored classes and functions are moved. Also note that the interface of the new CV iterators are different from that of this module. This module will be removed in 0.20.\n",
      "  \"This module will be removed in 0.20.\", DeprecationWarning)\n",
      "/Users/cesc/Anaconda3/anaconda/lib/python3.5/site-packages/sklearn/grid_search.py:42: DeprecationWarning: This module was deprecated in version 0.18 in favor of the model_selection module into which all the refactored classes and functions are moved. This module will be removed in 0.20.\n",
      "  DeprecationWarning)\n"
     ]
    }
   ],
   "source": [
    "# Data processing libraries\n",
    "import pickle\n",
    "\n",
    "# Import our own defined functions\n",
    "from crf_functions import *"
   ]
  },
  {
   "cell_type": "code",
   "execution_count": 2,
   "metadata": {
    "collapsed": false
   },
   "outputs": [
    {
     "name": "stdout",
     "output_type": "stream",
     "text": [
      "Number of training sentences readed:  27792\n",
      "Number of testing sentences readed:  5716\n",
      "CPU times: user 2.04 s, sys: 297 ms, total: 2.33 s\n",
      "Wall time: 2.34 s\n"
     ]
    }
   ],
   "source": [
    "%%time\n",
    "\n",
    "with open(\"X_train.txt\", \"rb\") as f:   # Unpickling\n",
    "    X_train = pickle.load(f)\n",
    "    \n",
    "with open(\"y_train_int.txt\", \"rb\") as f:   # Unpickling\n",
    "    y_train_int = pickle.load(f)\n",
    "    \n",
    "with open(\"y_train_type.txt\", \"rb\") as f:   # Unpickling\n",
    "    y_train_type = pickle.load(f)\n",
    "\n",
    "with open(\"X_test.txt\", \"rb\") as f:   # Unpickling\n",
    "    X_test = pickle.load(f)\n",
    "    \n",
    "with open(\"y_test_int.txt\", \"rb\") as f:   # Unpickling\n",
    "    y_test_int = pickle.load(f)\n",
    "    \n",
    "with open(\"y_test_type.txt\", \"rb\") as f:   # Unpickling\n",
    "    y_test_type = pickle.load(f)\n",
    "\n",
    "print('Number of training sentences readed: ', len(X_train))\n",
    "print('Number of testing sentences readed: ', len(X_test))"
   ]
  },
  {
   "cell_type": "code",
   "execution_count": 3,
   "metadata": {
    "collapsed": false
   },
   "outputs": [
    {
     "name": "stdout",
     "output_type": "stream",
     "text": [
      "             precision    recall  f1-score   support\n",
      "\n",
      "  mechanism      0.422     0.348     0.381       302\n",
      "     effect      0.447     0.411     0.428       360\n",
      "     advise      0.489     0.421     0.453       221\n",
      "        int      0.741     0.208     0.325        96\n",
      "\n",
      "avg / total      0.478     0.374     0.409       979\n",
      "\n",
      "CPU times: user 44.3 s, sys: 240 ms, total: 44.5 s\n",
      "Wall time: 44.6 s\n"
     ]
    }
   ],
   "source": [
    "%%time\n",
    "\n",
    "trainCRFAndEvaluate(\n",
    "    X_train = X_train, \n",
    "    y_train = y_train_type,\n",
    "    X_test = X_test,\n",
    "    y_test = y_test_type,\n",
    "    labels = ['mechanism', 'effect', 'advise', 'int'],\n",
    "    hyperparam_optim = False\n",
    ")"
   ]
  },
  {
   "cell_type": "code",
   "execution_count": 4,
   "metadata": {
    "collapsed": false,
    "scrolled": true
   },
   "outputs": [
    {
     "name": "stdout",
     "output_type": "stream",
     "text": [
      "Fitting 3 folds for each of 10 candidates, totalling 30 fits\n"
     ]
    },
    {
     "name": "stderr",
     "output_type": "stream",
     "text": [
      "[Parallel(n_jobs=-1)]: Done  30 out of  30 | elapsed:  9.1min finished\n"
     ]
    },
    {
     "name": "stdout",
     "output_type": "stream",
     "text": [
      "Hyperparameter optimization took 596.2300851345062 seconds to complete\n",
      "             precision    recall  f1-score   support\n",
      "\n",
      "  mechanism      0.445     0.391     0.416       302\n",
      "     effect      0.436     0.419     0.428       360\n",
      "     advise      0.438     0.430     0.434       221\n",
      "        int      0.520     0.135     0.215        96\n",
      "\n",
      "avg / total      0.448     0.385     0.405       979\n",
      "\n",
      "CPU times: user 3min 21s, sys: 11.1 s, total: 3min 33s\n",
      "Wall time: 10min 46s\n"
     ]
    }
   ],
   "source": [
    "%%time\n",
    "\n",
    "trainCRFAndEvaluate(\n",
    "    X_train = X_train, \n",
    "    y_train = y_train_type,\n",
    "    X_test = X_test,\n",
    "    y_test = y_test_type,\n",
    "    labels = ['mechanism', 'effect', 'advise', 'int'],\n",
    "    hyperparam_optim = True\n",
    ")"
   ]
  },
  {
   "cell_type": "code",
   "execution_count": null,
   "metadata": {
    "collapsed": true
   },
   "outputs": [],
   "source": []
  }
 ],
 "metadata": {
  "kernelspec": {
   "display_name": "Python [Root]",
   "language": "python",
   "name": "Python [Root]"
  },
  "language_info": {
   "codemirror_mode": {
    "name": "ipython",
    "version": 3
   },
   "file_extension": ".py",
   "mimetype": "text/x-python",
   "name": "python",
   "nbconvert_exporter": "python",
   "pygments_lexer": "ipython3",
   "version": "3.5.2"
  }
 },
 "nbformat": 4,
 "nbformat_minor": 0
}
