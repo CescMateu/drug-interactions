{
 "cells": [
  {
   "cell_type": "markdown",
   "metadata": {},
   "source": [
    "# Drug Name Entity Classifier\n",
    "## AHLT - MIRI 2018\n",
    "\n"
   ]
  },
  {
   "cell_type": "markdown",
   "metadata": {},
   "source": [
    "## Initialization\n",
    "\n",
    "Load needed modules and specify the working directory"
   ]
  },
  {
   "cell_type": "code",
   "execution_count": 1,
   "metadata": {},
   "outputs": [],
   "source": [
    "# Load needed packages\n",
    "import pandas as pd\n",
    "import numpy as np\n",
    "from sklearn import svm\n",
    "from sklearn.model_selection import GridSearchCV, RandomizedSearchCV,KFold # Parameter selection\n",
    "import time # Execution time of some blocks\n",
    "from nltk.tag import StanfordPOSTagger\n",
    "import statistics\n",
    "import scipy.stats # for RandomizedSearchCV\n",
    "\n",
    "\n",
    "# Import our defined functions\n",
    "from drug_functions import *\n",
    "from makingPredictions import *\n",
    "from datasetBuilder import *"
   ]
  },
  {
   "cell_type": "code",
   "execution_count": 2,
   "metadata": {},
   "outputs": [],
   "source": [
    "# init time\n",
    "first_init = time.time()"
   ]
  },
  {
   "cell_type": "code",
   "execution_count": 3,
   "metadata": {},
   "outputs": [],
   "source": [
    "# Set the data directories\n",
    "train_dirs_whereto_parse = ['data/small_train_DrugBank']\n",
    "test_dirs_whereto_parse = ['data/small_test_DrugBank']"
   ]
  },
  {
   "cell_type": "markdown",
   "metadata": {},
   "source": [
    "## Reading the train and test data from the XML files\n",
    "Accessing to all the files of the directory and storing id's and text's in two arrays.\n",
    "We have also added the token 'STOP' at the end of each sentence."
   ]
  },
  {
   "cell_type": "code",
   "execution_count": 4,
   "metadata": {},
   "outputs": [],
   "source": [
    "train_texts_entities = createTrainSet(train_dirs_whereto_parse)\n",
    "test_texts_entities = createTestSet(test_dirs_whereto_parse)"
   ]
  },
  {
   "cell_type": "markdown",
   "metadata": {},
   "source": [
    "# Creating the features for the classifier"
   ]
  },
  {
   "cell_type": "markdown",
   "metadata": {},
   "source": [
    "## BIO Tagger and Feature Creation\n",
    "\n",
    "In this section we will tag each sentence with the BIO format. For this, we have created a function called 'BIOTagger' which will perform the following actions:\n",
    "\n",
    "Given a sentence 'text' and a set of drugs 'drugs', this function returns a list of str that\n",
    "contains a tag for each of the tokens in text. The tags can be either 'B', 'I' or 'O'. 'B' means\n",
    "the token is the first part of a drug entity, 'I' means the token is the continuation of a drug entity,\n",
    "and 'O' means that the token does not belong to a drug entity.\n",
    "\n",
    "Apart from that, we have also downloaded the DrugBank database (ref: https://www.drugbank.ca/) from we will extract all the named entities. We will create a list out of these set of entities and for each token processed, we will check if the token is already in the database, meaning that has a very high probability of being a NE."
   ]
  },
  {
   "cell_type": "code",
   "execution_count": 5,
   "metadata": {},
   "outputs": [
    {
     "name": "stderr",
     "output_type": "stream",
     "text": [
      "/Library/Frameworks/Python.framework/Versions/3.6/lib/python3.6/site-packages/nltk/tag/stanford.py:149: DeprecationWarning: \n",
      "The StanfordTokenizer will be deprecated in version 3.2.5.\n",
      "Please use \u001b[91mnltk.tag.corenlp.CoreNLPPOSTagger\u001b[0m or \u001b[91mnltk.tag.corenlp.CoreNLPNERTagger\u001b[0m instead.\n",
      "  super(StanfordPOSTagger, self).__init__(*args, **kwargs)\n"
     ]
    }
   ],
   "source": [
    "# Load the DrugBank list of entities (it has already been processed for the extraction of the NE).\n",
    "# Each line of the file contains a different named entity.\n",
    "with(open('data/DrugBank_names_DB.txt', 'r')) as f:\n",
    "    drugbank_db = f.read().splitlines()\n",
    "        \n",
    "# Initialise the needed lists\n",
    "tokens = []\n",
    "tags = []\n",
    "removed_columns = []\n",
    "features = pd.DataFrame()\n",
    "\n",
    "# Creating StanfordPOStagger. We will need it as a createFeatureVector function parameter\n",
    "jar='Stanford_POStagger/stanford-postagger.jar'\n",
    "model='Stanford_POStagger/models/english-bidirectional-distsim.tagger'\n",
    "st = StanfordPOSTagger(model,jar, encoding='utf-8')\n",
    "\n",
    "#\n",
    "# Iterate over all the train entities (tuples of (sentence, drugs)) and apply the BIOTagger function\n",
    "for text,drugs in train_texts_entities:\n",
    "    tokenized_sentence = nltk.word_tokenize(text)\n",
    "    features = pd.concat([features,createFeatureVector(tokenized_sentence, drugbank_db,st)])\n",
    "    tuples = BIOTagger(text, drugs)\n",
    "    tokens = tokens + [word[0] for word in tuples]\n",
    "    tags = tags + [word[1] for word in tuples]\n",
    "\n",
    "'''\n",
    "# computing one-hot coding for 'Aa1-' feature.\n",
    "training_dummies = pd.get_dummies(features['Aa1-'])\n",
    "features = features.drop('Aa1-',axis=1)\n",
    "# joining both data frames\n",
    "for name in training_dummies.columns:\n",
    "    features[name]=training_dummies[name]\n",
    "'''\n",
    "'''\n",
    "# Adding the Frequency tokens. We will needed first the list with all the tokens.\n",
    "training_frequencies = frequencyTokens(tokens)\n",
    "features['frequencies'] = training_frequencies\n",
    "'''\n",
    "\n",
    "# Create a training set with the features,tokens and the BIO tags\n",
    "train_df = features\n",
    "train_df['token'] = tokens\n",
    "train_df['output'] = tags\n"
   ]
  },
  {
   "cell_type": "code",
   "execution_count": 17,
   "metadata": {},
   "outputs": [
    {
     "name": "stdout",
     "output_type": "stream",
     "text": [
      "Index(['token_length', 'prefix_feature', 'suffix_feature',\n",
      "       'unigram_pos_minus_2', 'bigram_pos_minus_2', 'trigram_pos_minus_2',\n",
      "       'unigram_pos_minus_1', 'bigram_pos_minus_1', 'trigram_pos_minus_1',\n",
      "       'unigram_pos_0', 'bigram_pos_0', 'trigram_pos_0', 'unigram_pos_1',\n",
      "       'bigram_pos_1', 'trigram_pos_1', 'unigram_pos_2', 'bigram_pos_2',\n",
      "       'trigram_pos_2', 'all_uppercase_letters', 'initial_capital_letter',\n",
      "       'contains_capital_letter', 'single_capital_letter', 'punctuation',\n",
      "       'initial_digit', 'single_digit', 'letter_and_num', 'many_numbers',\n",
      "       'contains_real_numbers', 'intermediate_dash', 'has_digit', 'is_Dash',\n",
      "       'is_roman_letter', 'is_end_punctuation', 'caps_mix',\n",
      "       'is_first_word_sentence', 'unigrams-2', 'bigrams-2', 'trigrams-2',\n",
      "       'unigrams-1', 'bigrams-1', 'trigrams-1', 'unigrams0', 'bigrams0',\n",
      "       'trigrams0', 'unigrams1', 'bigrams1', 'trigrams1', 'unigrams2',\n",
      "       'bigrams2', 'trigrams2', 'is_token_in_DrugBank_db', 'token', 'output'],\n",
      "      dtype='object')\n"
     ]
    }
   ],
   "source": [
    "print(train_df.columns)"
   ]
  },
  {
   "cell_type": "code",
   "execution_count": 20,
   "metadata": {},
   "outputs": [
    {
     "name": "stdout",
     "output_type": "stream",
     "text": [
      "10\n"
     ]
    }
   ],
   "source": [
    "a = 'hola que tal'\n",
    "print(num_trigrams(a))"
   ]
  },
  {
   "cell_type": "markdown",
   "metadata": {},
   "source": [
    "# Building the classifier\n",
    "## Support Vector Machines\n",
    "\n",
    "The advantages of support vector machines are:\n",
    "\n",
    "- Effective in high dimensional spaces.\n",
    "- Still effective in cases where number of dimensions is greater than the number of samples.\n",
    "- Uses a subset of training points in the decision function (called support vectors), so it is also memory efficient.\n",
    "- Versatile: different Kernel functions can be specified for the decision function. Common kernels are provided, but it is also possible to specify custom kernels.\n",
    "\n",
    "The disadvantages of support vector machines include:\n",
    "\n",
    "- If the number of features is much greater than the number of samples, avoid over-fitting in choosing Kernel functions and regularization term is crucial.\n",
    "- SVMs do not directly provide probability estimates, these are calculated using an expensive five-fold cross-validation (see Scores and probabilities, below)."
   ]
  },
  {
   "cell_type": "code",
   "execution_count": 7,
   "metadata": {},
   "outputs": [],
   "source": [
    "# Name of the target variable\n",
    "target_name = 'output'\n",
    "token_name = 'token'\n",
    "\n",
    "# Create the appropiate data structure to pass it to the SVM.\n",
    "# X columns should be all but target_name and token_name\n",
    "X_train = train_df.loc[:, [all(x) for x in list(zip(train_df.columns!=target_name,train_df.columns!=token_name))]]\n",
    "Y_train = train_df[target_name]"
   ]
  },
  {
   "cell_type": "markdown",
   "metadata": {},
   "source": [
    "Defining a small dataset for model selection"
   ]
  },
  {
   "cell_type": "code",
   "execution_count": 8,
   "metadata": {},
   "outputs": [],
   "source": [
    "validation_df = train_df.sample(frac=0.3)\n",
    "X_val = validation_df.loc[:, [all(x) for x in list(zip(validation_df.columns!=target_name,validation_df.columns!=token_name))]]\n",
    "Y_val = validation_df[target_name]"
   ]
  },
  {
   "cell_type": "markdown",
   "metadata": {},
   "source": [
    "#### Model Selection"
   ]
  },
  {
   "cell_type": "code",
   "execution_count": 9,
   "metadata": {},
   "outputs": [
    {
     "name": "stdout",
     "output_type": "stream",
     "text": [
      "Execution time for RandomSearchCV:  0.002465963363647461\n"
     ]
    }
   ],
   "source": [
    "# Create a SVM object with the corresponding tunned parameters\n",
    "'''\n",
    "svc = svm.SVC()\n",
    "\n",
    "# Look for the best parameters of the SVM model with GridSearchCV\n",
    "start = time.time()\n",
    "clf = RandomizedSearchCV(svc,{'C': scipy.stats.expon(scale=100), 'gamma': scipy.stats.expon(scale=.1),\n",
    "                              'kernel': ['rbf'], 'class_weight':['balanced', None]},n_iter=40,n_jobs=-1)\n",
    "end = time.time()\n",
    "print('Execution time for RandomSearchCV: ', str(end - start))\n",
    "''''''"
   ]
  },
  {
   "cell_type": "code",
   "execution_count": 10,
   "metadata": {},
   "outputs": [
    {
     "name": "stdout",
     "output_type": "stream",
     "text": [
      "Validating time of the SVM:  0.930189847946167 \n",
      "\n",
      "Best estimator:  SVC(C=33.448430778449755, cache_size=200, class_weight=None, coef0=0.0,\n",
      "  decision_function_shape='ovr', degree=3, gamma=0.13171752884159812,\n",
      "  kernel='rbf', max_iter=-1, probability=False, random_state=None,\n",
      "  shrinking=True, tol=0.001, verbose=False)\n"
     ]
    }
   ],
   "source": [
    "'''\n",
    "start = time.time()\n",
    "clf.fit(X_val,Y_val)\n",
    "end = time.time()\n",
    "print('Validating time of the SVM: ', str(end - start),'\\n')\n",
    "\n",
    "print('Best estimator: ', clf.best_estimator_)\n",
    "'''"
   ]
  },
  {
   "cell_type": "code",
   "execution_count": 25,
   "metadata": {},
   "outputs": [
    {
     "name": "stdout",
     "output_type": "stream",
     "text": [
      "    token_length  prefix_feature  suffix_feature  unigram_pos_minus_2  \\\n",
      "16             3               1               0                    3   \n",
      "30             3               0               0                    2   \n",
      "19             4               0               1                    3   \n",
      "4              8               0               0                    2   \n",
      "25            15               0               0                    3   \n",
      "8              6               0               0                    3   \n",
      "19             4               0               0                    3   \n",
      "8              4               0               0                    2   \n",
      "27             3               0               0                    3   \n",
      "14             8               0               0                    2   \n",
      "6              5               0               0                    2   \n",
      "14             4               0               0                    2   \n",
      "34             5               0               0                    3   \n",
      "14             1               0               0                    2   \n",
      "39             1               0               0                    2   \n",
      "25             8               0               0                    2   \n",
      "0              5               0               0                    0   \n",
      "0              5               0               0                    0   \n",
      "13             2               0               0                    2   \n",
      "4             14               0               0                    1   \n",
      "13            10               0               0                    3   \n",
      "3              6               0               0                    3   \n",
      "1              8               0               0                    0   \n",
      "27             3               0               0                    2   \n",
      "11             6               0               0                    3   \n",
      "13             2               0               0                    2   \n",
      "4              9               0               0                    3   \n",
      "1             13               0               1                    0   \n",
      "17            11               0               1                    2   \n",
      "13             9               0               0                    2   \n",
      "..           ...             ...             ...                  ...   \n",
      "28            18               0               0                    2   \n",
      "0              5               0               0                    0   \n",
      "57             5               0               0                    2   \n",
      "10             1               0               0                    1   \n",
      "27             6               0               0                    2   \n",
      "22             5               0               0                    2   \n",
      "18             9               0               0                    3   \n",
      "14             3               0               0                    3   \n",
      "29            11               0               0                    2   \n",
      "15             4               0               0                    3   \n",
      "16             3               0               0                    2   \n",
      "17             9               0               0                    3   \n",
      "2             12               0               0                    3   \n",
      "7              8               0               0                    2   \n",
      "4              7               1               0                    2   \n",
      "9              9               0               0                    2   \n",
      "0              5               0               0                    0   \n",
      "12             4               0               0                    2   \n",
      "1              3               0               0                    0   \n",
      "9              7               0               0                    2   \n",
      "3              6               0               0                    2   \n",
      "5              9               0               0                    3   \n",
      "8              6               0               0                    2   \n",
      "16            11               0               0                    2   \n",
      "8              7               0               0                    2   \n",
      "36             7               0               0                    2   \n",
      "17             1               0               0                    3   \n",
      "13             3               0               0                    2   \n",
      "4              9               0               0                    3   \n",
      "14             1               0               0                    3   \n",
      "\n",
      "    bigram_pos_minus_2  trigram_pos_minus_2  unigram_pos_minus_1  \\\n",
      "16                   2                    1                    3   \n",
      "30                   1                    0                    3   \n",
      "19                   2                    1                    1   \n",
      "4                    1                    0                    2   \n",
      "25                   2                    1                    1   \n",
      "8                    2                    1                    1   \n",
      "19                   2                    1                    1   \n",
      "8                    1                    0                    3   \n",
      "27                   2                    1                    1   \n",
      "14                   1                    0                    3   \n",
      "6                    1                    0                    3   \n",
      "14                   1                    0                    1   \n",
      "34                   2                    1                    2   \n",
      "14                   1                    0                    2   \n",
      "39                   1                    0                    2   \n",
      "25                   1                    0                    2   \n",
      "0                    0                    0                    0   \n",
      "0                    0                    0                    0   \n",
      "13                   1                    0                    2   \n",
      "4                    0                    0                    2   \n",
      "13                   2                    1                    3   \n",
      "3                    2                    1                    2   \n",
      "1                    0                    0                    3   \n",
      "27                   1                    0                    2   \n",
      "11                   2                    1                    2   \n",
      "13                   1                    0                    2   \n",
      "4                    2                    1                    2   \n",
      "1                    0                    0                    3   \n",
      "17                   1                    0                    2   \n",
      "13                   1                    0                    2   \n",
      "..                 ...                  ...                  ...   \n",
      "28                   1                    0                    1   \n",
      "0                    0                    0                    0   \n",
      "57                   1                    0                    2   \n",
      "10                   0                    0                    2   \n",
      "27                   1                    0                    2   \n",
      "22                   1                    0                    2   \n",
      "18                   2                    1                    1   \n",
      "14                   2                    1                    2   \n",
      "29                   1                    0                    3   \n",
      "15                   2                    1                    3   \n",
      "16                   1                    0                    2   \n",
      "17                   2                    1                    1   \n",
      "2                    2                    1                    3   \n",
      "7                    1                    0                    1   \n",
      "4                    1                    0                    2   \n",
      "9                    1                    0                    2   \n",
      "0                    0                    0                    0   \n",
      "12                   1                    0                    2   \n",
      "1                    0                    0                    3   \n",
      "9                    1                    0                    2   \n",
      "3                    1                    0                    3   \n",
      "5                    2                    1                    3   \n",
      "8                    1                    0                    3   \n",
      "16                   1                    0                    2   \n",
      "8                    1                    0                    2   \n",
      "36                   1                    0                    2   \n",
      "17                   2                    1                    3   \n",
      "13                   1                    0                    3   \n",
      "4                    2                    1                    2   \n",
      "14                   2                    1                    2   \n",
      "\n",
      "    bigram_pos_minus_1  trigram_pos_minus_1  unigram_pos_0  \\\n",
      "16                   2                    1              3   \n",
      "30                   2                    1              2   \n",
      "19                   0                    0              2   \n",
      "4                    1                    0              2   \n",
      "25                   0                    0              3   \n",
      "8                    0                    0              3   \n",
      "19                   0                    0              2   \n",
      "8                    2                    1              3   \n",
      "27                   0                    0              3   \n",
      "14                   2                    1              3   \n",
      "6                    2                    1              2   \n",
      "14                   0                    0              2   \n",
      "34                   1                    0              2   \n",
      "14                   1                    0              2   \n",
      "39                   1                    0              1   \n",
      "25                   1                    0              3   \n",
      "0                    0                    0              2   \n",
      "0                    0                    0              2   \n",
      "13                   1                    0              2   \n",
      "4                    1                    0              3   \n",
      "13                   2                    1              3   \n",
      "3                    1                    0              2   \n",
      "1                    2                    1              3   \n",
      "27                   1                    0              2   \n",
      "11                   1                    0              2   \n",
      "13                   1                    0              2   \n",
      "4                    1                    0              2   \n",
      "1                    2                    1              3   \n",
      "17                   1                    0              2   \n",
      "13                   1                    0              2   \n",
      "..                 ...                  ...            ...   \n",
      "28                   0                    0              2   \n",
      "0                    0                    0              3   \n",
      "57                   1                    0              2   \n",
      "10                   1                    0              1   \n",
      "27                   1                    0              2   \n",
      "22                   1                    0              3   \n",
      "18                   0                    0              3   \n",
      "14                   1                    0              2   \n",
      "29                   2                    1              3   \n",
      "15                   2                    1              2   \n",
      "16                   1                    0              2   \n",
      "17                   0                    0              3   \n",
      "2                    2                    1              2   \n",
      "7                    0                    0              2   \n",
      "4                    1                    0              2   \n",
      "9                    1                    0              2   \n",
      "0                    0                    0              3   \n",
      "12                   1                    0              2   \n",
      "1                    2                    1              2   \n",
      "9                    1                    0              2   \n",
      "3                    2                    1              2   \n",
      "5                    2                    1              3   \n",
      "8                    2                    1              2   \n",
      "16                   1                    0              2   \n",
      "8                    1                    0              3   \n",
      "36                   1                    0              2   \n",
      "17                   2                    1              1   \n",
      "13                   2                    1              2   \n",
      "4                    1                    0              2   \n",
      "14                   1                    0              2   \n",
      "\n",
      "             ...             unigrams0  bigrams0  trigrams0  unigrams1  \\\n",
      "16           ...                     3         2          1          3   \n",
      "30           ...                     3         2          1          6   \n",
      "19           ...                     4         3          2         14   \n",
      "4            ...                     8         7          6          7   \n",
      "25           ...                    15        14         13          1   \n",
      "8            ...                     6         5          4          1   \n",
      "19           ...                     0         0          0          0   \n",
      "8            ...                     4         3          2          3   \n",
      "27           ...                     3         2          1          8   \n",
      "14           ...                     8         7          6          6   \n",
      "6            ...                     5         4          3          6   \n",
      "14           ...                     0         0          0          0   \n",
      "34           ...                     5         4          3          8   \n",
      "14           ...                     1         0          0          4   \n",
      "39           ...                     1         0          0          5   \n",
      "25           ...                     8         7          6          1   \n",
      "0            ...                     0         0          0          0   \n",
      "0            ...                     0         0          0          0   \n",
      "13           ...                     2         1          0          6   \n",
      "4            ...                    14        13         12          1   \n",
      "13           ...                    10         9          8          4   \n",
      "3            ...                     6         5          4          7   \n",
      "1            ...                     8         7          6          3   \n",
      "27           ...                     3         2          1         12   \n",
      "11           ...                     6         5          4          4   \n",
      "13           ...                     2         1          0          1   \n",
      "4            ...                     9         8          7          3   \n",
      "1            ...                    13        12         11          3   \n",
      "17           ...                    11        10          9          1   \n",
      "13           ...                     9         8          7          2   \n",
      "..           ...                   ...       ...        ...        ...   \n",
      "28           ...                    18        17         16          1   \n",
      "0            ...                     0         0          0          0   \n",
      "57           ...                     5         4          3          1   \n",
      "10           ...                     1         0          0         14   \n",
      "27           ...                     6         5          4          1   \n",
      "22           ...                     5         4          3          3   \n",
      "18           ...                     9         8          7          5   \n",
      "14           ...                     3         2          1          9   \n",
      "29           ...                    11        10          9          5   \n",
      "15           ...                     4         3          2         13   \n",
      "16           ...                     3         2          1          3   \n",
      "17           ...                     9         8          7          1   \n",
      "2            ...                    12        11         10          6   \n",
      "7            ...                     8         7          6          1   \n",
      "4            ...                     7         6          5         15   \n",
      "9            ...                     9         8          7         10   \n",
      "0            ...                     0         0          0          0   \n",
      "12           ...                     4         3          2          9   \n",
      "1            ...                     3         2          1          6   \n",
      "9            ...                     7         6          5          3   \n",
      "3            ...                     6         5          4          2   \n",
      "5            ...                     9         8          7          4   \n",
      "8            ...                     6         5          4          1   \n",
      "16           ...                    11        10          9         11   \n",
      "8            ...                     7         6          5          3   \n",
      "36           ...                     7         6          5         12   \n",
      "17           ...                     1         0          0          0   \n",
      "13           ...                     3         2          1          1   \n",
      "4            ...                     9         8          7          4   \n",
      "14           ...                     1         0          0          2   \n",
      "\n",
      "    bigrams1  trigrams1  unigrams2  bigrams2  trigrams2  \\\n",
      "16         2          1          9         8          7   \n",
      "30         5          4          3         2          1   \n",
      "19        13         12          1         0          0   \n",
      "4          6          5          4         3          2   \n",
      "25         0          0          3         2          1   \n",
      "8          0          0         15        14         13   \n",
      "19         0          0          0         0          0   \n",
      "8          2          1          6         5          4   \n",
      "27         7          6          6         5          4   \n",
      "14         5          4          3         2          1   \n",
      "6          5          4          8         7          6   \n",
      "14         0          0          0         0          0   \n",
      "34         7          6          7         6          5   \n",
      "14         3          2          6         5          4   \n",
      "39         4          3          1         0          0   \n",
      "25         0          0         11        10          9   \n",
      "0          0          0          0         0          0   \n",
      "0          0          0          0         0          0   \n",
      "13         5          4          2         1          0   \n",
      "4          0          0         13        12         11   \n",
      "13         3          2          2         1          0   \n",
      "3          6          5         15        14         13   \n",
      "1          2          1          4         3          2   \n",
      "27        11         10          1         0          0   \n",
      "11         3          2          3         2          1   \n",
      "13         0          0          4         3          2   \n",
      "4          2          1          3         2          1   \n",
      "1          2          1          8         7          6   \n",
      "17         0          0          0         0          0   \n",
      "13         1          0          8         7          6   \n",
      "..       ...        ...        ...       ...        ...   \n",
      "28         0          0          2         1          0   \n",
      "0          0          0          0         0          0   \n",
      "57         0          0          2         1          0   \n",
      "10        13         12          1         0          0   \n",
      "27         0          0          0         0          0   \n",
      "22         2          1          7         6          5   \n",
      "18         4          3          9         8          7   \n",
      "14         8          7         11        10          9   \n",
      "29         4          3          1         0          0   \n",
      "15        12         11          6         5          4   \n",
      "16         2          1         11        10          9   \n",
      "17         0          0          4         3          2   \n",
      "2          5          4          6         5          4   \n",
      "7          0          0         15        14         13   \n",
      "4         14         13          3         2          1   \n",
      "9          9          8          1         0          0   \n",
      "0          0          0          0         0          0   \n",
      "12         8          7          3         2          1   \n",
      "1          5          4          2         1          0   \n",
      "9          2          1          9         8          7   \n",
      "3          1          0          3         2          1   \n",
      "5          3          2          8         7          6   \n",
      "8          0          0          9         8          7   \n",
      "16        10          9          4         3          2   \n",
      "8          2          1          4         3          2   \n",
      "36        11         10         11        10          9   \n",
      "17         0          0          0         0          0   \n",
      "13         0          0          2         1          0   \n",
      "4          3          2          3         2          1   \n",
      "14         1          0          1         0          0   \n",
      "\n",
      "    is_token_in_DrugBank_db  \n",
      "16                        0  \n",
      "30                        0  \n",
      "19                        0  \n",
      "4                         0  \n",
      "25                        1  \n",
      "8                         0  \n",
      "19                        0  \n",
      "8                         0  \n",
      "27                        0  \n",
      "14                        0  \n",
      "6                         0  \n",
      "14                        0  \n",
      "34                        1  \n",
      "14                        0  \n",
      "39                        0  \n",
      "25                        1  \n",
      "0                         0  \n",
      "0                         0  \n",
      "13                        0  \n",
      "4                         1  \n",
      "13                        0  \n",
      "3                         0  \n",
      "1                         1  \n",
      "27                        0  \n",
      "11                        0  \n",
      "13                        0  \n",
      "4                         0  \n",
      "1                         1  \n",
      "17                        1  \n",
      "13                        1  \n",
      "..                      ...  \n",
      "28                        0  \n",
      "0                         0  \n",
      "57                        0  \n",
      "10                        0  \n",
      "27                        0  \n",
      "22                        0  \n",
      "18                        0  \n",
      "14                        0  \n",
      "29                        0  \n",
      "15                        0  \n",
      "16                        0  \n",
      "17                        1  \n",
      "2                         1  \n",
      "7                         1  \n",
      "4                         1  \n",
      "9                         0  \n",
      "0                         0  \n",
      "12                        0  \n",
      "1                         0  \n",
      "9                         0  \n",
      "3                         0  \n",
      "5                         0  \n",
      "8                         0  \n",
      "16                        0  \n",
      "8                         0  \n",
      "36                        0  \n",
      "17                        0  \n",
      "13                        0  \n",
      "4                         0  \n",
      "14                        0  \n",
      "\n",
      "[382 rows x 51 columns]\n",
      "16    O\n",
      "30    O\n",
      "19    O\n",
      "4     O\n",
      "25    B\n",
      "8     B\n",
      "19    O\n",
      "8     O\n",
      "27    B\n",
      "14    I\n",
      "6     O\n",
      "14    O\n",
      "34    O\n",
      "14    O\n",
      "39    O\n",
      "25    B\n",
      "0     O\n",
      "0     O\n",
      "13    O\n",
      "4     B\n",
      "13    O\n",
      "3     O\n",
      "1     B\n",
      "27    O\n",
      "11    O\n",
      "13    O\n",
      "4     O\n",
      "1     B\n",
      "17    B\n",
      "13    I\n",
      "     ..\n",
      "28    O\n",
      "0     O\n",
      "57    O\n",
      "10    O\n",
      "27    O\n",
      "22    O\n",
      "18    O\n",
      "14    O\n",
      "29    I\n",
      "15    O\n",
      "16    O\n",
      "17    B\n",
      "2     O\n",
      "7     B\n",
      "4     B\n",
      "9     I\n",
      "0     O\n",
      "12    O\n",
      "1     O\n",
      "9     O\n",
      "3     O\n",
      "5     O\n",
      "8     O\n",
      "16    O\n",
      "8     B\n",
      "36    O\n",
      "17    O\n",
      "13    O\n",
      "4     O\n",
      "14    O\n",
      "Name: output, Length: 382, dtype: object\n"
     ]
    },
    {
     "ename": "ValueError",
     "evalue": "The numbers of items and labels differ: |x| = 51, |y| = 1",
     "output_type": "error",
     "traceback": [
      "\u001b[0;31m---------------------------------------------------------------------------\u001b[0m",
      "\u001b[0;31mValueError\u001b[0m                                Traceback (most recent call last)",
      "\u001b[0;32m<ipython-input-25-d346c99ac994>\u001b[0m in \u001b[0;36m<module>\u001b[0;34m()\u001b[0m\n\u001b[1;32m     11\u001b[0m \u001b[0mprint\u001b[0m\u001b[0;34m(\u001b[0m\u001b[0mX_val\u001b[0m\u001b[0;34m)\u001b[0m\u001b[0;34m\u001b[0m\u001b[0m\n\u001b[1;32m     12\u001b[0m \u001b[0mprint\u001b[0m\u001b[0;34m(\u001b[0m\u001b[0mY_val\u001b[0m\u001b[0;34m)\u001b[0m\u001b[0;34m\u001b[0m\u001b[0m\n\u001b[0;32m---> 13\u001b[0;31m \u001b[0mcrf\u001b[0m\u001b[0;34m.\u001b[0m\u001b[0mfit\u001b[0m\u001b[0;34m(\u001b[0m\u001b[0mX_val\u001b[0m\u001b[0;34m.\u001b[0m\u001b[0mvalues\u001b[0m\u001b[0;34m,\u001b[0m \u001b[0mY_val\u001b[0m\u001b[0;34m.\u001b[0m\u001b[0mvalues\u001b[0m\u001b[0;34m)\u001b[0m\u001b[0;34m\u001b[0m\u001b[0m\n\u001b[0m",
      "\u001b[0;32m/Library/Frameworks/Python.framework/Versions/3.6/lib/python3.6/site-packages/sklearn_crfsuite/estimator.py\u001b[0m in \u001b[0;36mfit\u001b[0;34m(self, X, y, X_dev, y_dev)\u001b[0m\n\u001b[1;32m    312\u001b[0m \u001b[0;34m\u001b[0m\u001b[0m\n\u001b[1;32m    313\u001b[0m         \u001b[0;32mfor\u001b[0m \u001b[0mxseq\u001b[0m\u001b[0;34m,\u001b[0m \u001b[0myseq\u001b[0m \u001b[0;32min\u001b[0m \u001b[0mtrain_data\u001b[0m\u001b[0;34m:\u001b[0m\u001b[0;34m\u001b[0m\u001b[0m\n\u001b[0;32m--> 314\u001b[0;31m             \u001b[0mtrainer\u001b[0m\u001b[0;34m.\u001b[0m\u001b[0mappend\u001b[0m\u001b[0;34m(\u001b[0m\u001b[0mxseq\u001b[0m\u001b[0;34m,\u001b[0m \u001b[0myseq\u001b[0m\u001b[0;34m)\u001b[0m\u001b[0;34m\u001b[0m\u001b[0m\n\u001b[0m\u001b[1;32m    315\u001b[0m \u001b[0;34m\u001b[0m\u001b[0m\n\u001b[1;32m    316\u001b[0m         \u001b[0;32mif\u001b[0m \u001b[0mself\u001b[0m\u001b[0;34m.\u001b[0m\u001b[0mverbose\u001b[0m\u001b[0;34m:\u001b[0m\u001b[0;34m\u001b[0m\u001b[0m\n",
      "\u001b[0;32mpycrfsuite/_pycrfsuite.pyx\u001b[0m in \u001b[0;36mpycrfsuite._pycrfsuite.BaseTrainer.append\u001b[0;34m()\u001b[0m\n",
      "\u001b[0;31mValueError\u001b[0m: The numbers of items and labels differ: |x| = 51, |y| = 1"
     ]
    }
   ],
   "source": [
    "import sklearn_crfsuite\n",
    "from sklearn_crfsuite import scorers\n",
    "from sklearn_crfsuite import metrics\n",
    "crf = sklearn_crfsuite.CRF(\n",
    "    algorithm='lbfgs',\n",
    "    c1=0.1,\n",
    "    c2=0.1,\n",
    "    max_iterations=100,\n",
    "    all_possible_transitions=True\n",
    ")\n",
    "print(X_val)\n",
    "print(Y_val)\n",
    "crf.fit(X_val.values, Y_val.values)"
   ]
  },
  {
   "cell_type": "markdown",
   "metadata": {},
   "source": [
    "### Trainig SVM in python"
   ]
  },
  {
   "cell_type": "code",
   "execution_count": 11,
   "metadata": {},
   "outputs": [
    {
     "name": "stdout",
     "output_type": "stream",
     "text": [
      "Training time of the SVM:  0.22796177864074707\n"
     ]
    }
   ],
   "source": [
    "# Train the SVM model with the parameters selected before\n",
    "start = time.time()\n",
    "model = clf.best_estimator_\n",
    "model.fit(X_train,Y_train)\n",
    "end = time.time()\n",
    "print('Training time of the SVM: ', str(end - start))\n"
   ]
  },
  {
   "cell_type": "markdown",
   "metadata": {},
   "source": [
    "Computing training error:"
   ]
  },
  {
   "cell_type": "code",
   "execution_count": 12,
   "metadata": {},
   "outputs": [
    {
     "name": "stdout",
     "output_type": "stream",
     "text": [
      "Results of the training evaluation:  \n",
      "Precision:  96.87272727272727 \n",
      "Recall:  96.96363636363637 \n",
      "F1:  96.92\n"
     ]
    }
   ],
   "source": [
    "F1_train,train_precision,train_recall = makingPredictions(train_texts_entities,model,drugbank_db,st)#,training_dummies)\n",
    "print('Results of the training evaluation: ','\\nPrecision: ',train_precision,'\\nRecall: ',train_recall,'\\nF1: ',F1_train,)"
   ]
  },
  {
   "cell_type": "markdown",
   "metadata": {},
   "source": [
    "### Making predictions and evaluations"
   ]
  },
  {
   "cell_type": "code",
   "execution_count": 13,
   "metadata": {},
   "outputs": [
    {
     "name": "stdout",
     "output_type": "stream",
     "text": [
      "Results of the evaluation of the test part:  \n",
      "Precision:  86.11111111111111 \n",
      "Recall:  86.11111111111111 \n",
      "F1:  86.11\n"
     ]
    }
   ],
   "source": [
    "F1_test,test_precision,test_recall = makingPredictions(test_texts_entities,model,drugbank_db,st)#,training_dummies)\n",
    "print('Results of the evaluation of the test part: ','\\nPrecision: ',test_precision,'\\nRecall: ',test_recall,'\\nF1: ',F1_test)"
   ]
  },
  {
   "cell_type": "code",
   "execution_count": 14,
   "metadata": {},
   "outputs": [
    {
     "name": "stdout",
     "output_type": "stream",
     "text": [
      "Total execution time:  0.12277858257293701  minutes\n"
     ]
    }
   ],
   "source": [
    "# stopp time\n",
    "end_time = time.time()\n",
    "print('Total execution time: ',str((end_time-first_init)/60),' minutes')"
   ]
  },
  {
   "cell_type": "markdown",
   "metadata": {},
   "source": [
    "### Evaluation"
   ]
  },
  {
   "cell_type": "markdown",
   "metadata": {},
   "source": [
    "Evaluation will be based on $$F1=\\frac{2*precision*recall}{precision+recall}$$"
   ]
  },
  {
   "cell_type": "code",
   "execution_count": 15,
   "metadata": {},
   "outputs": [
    {
     "data": {
      "text/plain": [
       "'\\n## Log of results\\ndate, precision, recall, F1, features, test\\n14-May, 46.2, 52.1, 48.99, Token length; Prefixes/Suffixes; POS tag; Binary features (+-2); Token position; DrugBank DB; Shape, yes\\n'"
      ]
     },
     "execution_count": 15,
     "metadata": {},
     "output_type": "execute_result"
    }
   ],
   "source": [
    "'''\n",
    "## Log of results\n",
    "date, precision, recall, F1, features, test\n",
    "14-May, 46.2, 52.1, 48.99, Token length; Prefixes/Suffixes; POS tag; Binary features (+-2); Token position; DrugBank DB; Shape, yes\n",
    "'''"
   ]
  }
 ],
 "metadata": {
  "anaconda-cloud": {},
  "kernelspec": {
   "display_name": "Python 3",
   "language": "python",
   "name": "python3"
  },
  "language_info": {
   "codemirror_mode": {
    "name": "ipython",
    "version": 3
   },
   "file_extension": ".py",
   "mimetype": "text/x-python",
   "name": "python",
   "nbconvert_exporter": "python",
   "pygments_lexer": "ipython3",
   "version": "3.6.4"
  }
 },
 "nbformat": 4,
 "nbformat_minor": 2
}
