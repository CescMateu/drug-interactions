{
 "cells": [
  {
   "cell_type": "code",
   "execution_count": 1,
   "metadata": {
    "collapsed": false
   },
   "outputs": [
    {
     "name": "stderr",
     "output_type": "stream",
     "text": [
      "/Users/cesc/Anaconda3/anaconda/lib/python3.5/site-packages/sklearn/cross_validation.py:41: DeprecationWarning: This module was deprecated in version 0.18 in favor of the model_selection module into which all the refactored classes and functions are moved. Also note that the interface of the new CV iterators are different from that of this module. This module will be removed in 0.20.\n",
      "  \"This module will be removed in 0.20.\", DeprecationWarning)\n",
      "/Users/cesc/Anaconda3/anaconda/lib/python3.5/site-packages/sklearn/grid_search.py:42: DeprecationWarning: This module was deprecated in version 0.18 in favor of the model_selection module into which all the refactored classes and functions are moved. This module will be removed in 0.20.\n",
      "  DeprecationWarning)\n"
     ]
    }
   ],
   "source": [
    "# Data processing libraries\n",
    "import pandas as pd\n",
    "import numpy as np\n",
    "\n",
    "# NLP libraries\n",
    "import nltk\n",
    "from nltk.tag import StanfordPOSTagger\n",
    "\n",
    "# Machine Learning Libraries\n",
    "import sklearn\n",
    "import scipy.stats\n",
    "from sklearn.metrics import make_scorer\n",
    "from sklearn.model_selection import train_test_split # Parameter selection\n",
    "import sklearn_crfsuite\n",
    "from sklearn_crfsuite import scorers, metrics\n",
    "from sklearn.cross_validation import cross_val_score\n",
    "from sklearn.grid_search import RandomizedSearchCV\n",
    "\n",
    "# Other libraries\n",
    "import time # Execution time of some blocks\n",
    "import statistics\n",
    "from IPython.display import display # For displaying DataFrames correctly in Jupyter\n",
    "from itertools import chain\n",
    "import collections\n",
    "import pickle\n",
    "\n",
    "# Import our own defined functions\n",
    "from xlm_parsers_functions import *\n",
    "from drug_interaction_functions import *\n",
    "from drug_functions import *\n",
    "from NER_functions import *\n",
    "from ortographic_features import *\n",
    "from context_features import *\n",
    "from feature_creation_interaction import *\n",
    "from crf_functions import *"
   ]
  },
  {
   "cell_type": "code",
   "execution_count": 2,
   "metadata": {
    "collapsed": false
   },
   "outputs": [
    {
     "name": "stdout",
     "output_type": "stream",
     "text": [
      "Number of training sentences readed:  27792\n",
      "Number of testing sentences readed:  5716\n",
      "CPU times: user 1.84 s, sys: 320 ms, total: 2.16 s\n",
      "Wall time: 2.18 s\n"
     ]
    }
   ],
   "source": [
    "%%time\n",
    "\n",
    "with open(\"X_train.txt\", \"rb\") as f:   # Unpickling\n",
    "    X_train = pickle.load(f)\n",
    "    \n",
    "with open(\"y_train_int.txt\", \"rb\") as f:   # Unpickling\n",
    "    y_train_int = pickle.load(f)\n",
    "    \n",
    "with open(\"y_train_type.txt\", \"rb\") as f:   # Unpickling\n",
    "    y_train_type = pickle.load(f)\n",
    "\n",
    "with open(\"X_test.txt\", \"rb\") as f:   # Unpickling\n",
    "    X_test = pickle.load(f)\n",
    "    \n",
    "with open(\"y_test_int.txt\", \"rb\") as f:   # Unpickling\n",
    "    y_test_int = pickle.load(f)\n",
    "    \n",
    "with open(\"y_test_type.txt\", \"rb\") as f:   # Unpickling\n",
    "    y_test_type = pickle.load(f)\n",
    "\n",
    "print('Number of training sentences readed: ', len(X_train))\n",
    "print('Number of testing sentences readed: ', len(X_test))"
   ]
  },
  {
   "cell_type": "code",
   "execution_count": 3,
   "metadata": {
    "collapsed": false
   },
   "outputs": [
    {
     "name": "stdout",
     "output_type": "stream",
     "text": [
      "             precision    recall  f1-score   support\n",
      "\n",
      "       true      0.507     0.531     0.519       979\n",
      "      false      0.902     0.893     0.898      4737\n",
      "\n",
      "avg / total      0.835     0.831     0.833      5716\n",
      "\n",
      "CPU times: user 28.4 s, sys: 287 ms, total: 28.7 s\n",
      "Wall time: 28.8 s\n"
     ]
    }
   ],
   "source": [
    "%%time\n",
    "\n",
    "mod1 = trainCRFAndEvaluate(\n",
    "            X_train = X_train, \n",
    "            y_train = y_train_int,\n",
    "            X_test = X_test,\n",
    "            y_test = y_test_int,\n",
    "            labels = ['true', 'false'],\n",
    "            hyperparam_optim = False)"
   ]
  },
  {
   "cell_type": "code",
   "execution_count": 4,
   "metadata": {
    "collapsed": true
   },
   "outputs": [],
   "source": [
    "y_pred_int = mod1.predict(X_test)"
   ]
  },
  {
   "cell_type": "code",
   "execution_count": 5,
   "metadata": {
    "collapsed": false
   },
   "outputs": [
    {
     "name": "stdout",
     "output_type": "stream",
     "text": [
      "Number of training sentences:  4021\n",
      "Number of testing sentences:  1025\n"
     ]
    }
   ],
   "source": [
    "X_train_filtered = []\n",
    "y_train_filtered = []\n",
    "for idx,val in enumerate(y_train_int):\n",
    "    if val==['true']:\n",
    "        X_train_filtered.append(X_train[idx])\n",
    "        y_train_filtered.append(y_train_type[idx]) # no we don't want true or false rather than int, mechanism...\n",
    "\n",
    "\n",
    "X_test_filtered = []\n",
    "y_test_filtered = []\n",
    "idx_positive_interaction = []\n",
    "for idx,val in enumerate(y_pred_int):\n",
    "    if val==['true']:\n",
    "        idx_positive_interaction.append(1)\n",
    "        X_test_filtered.append(X_test[idx])\n",
    "        y_test_filtered.append(y_test_type[idx]) # no we don't want true or false rather than int, mechanism...\n",
    "    else:\n",
    "        idx_positive_interaction.append(0)\n",
    "\n",
    "print('Number of training sentences: ', len(X_train_filtered))\n",
    "print('Number of testing sentences: ', len(X_test_filtered))"
   ]
  },
  {
   "cell_type": "code",
   "execution_count": 13,
   "metadata": {
    "collapsed": false
   },
   "outputs": [
    {
     "name": "stdout",
     "output_type": "stream",
     "text": [
      "             precision    recall  f1-score   support\n",
      "\n",
      "  mechanism      0.371     0.832     0.513       155\n",
      "        int      0.464     0.213     0.292        61\n",
      "     advise      0.403     0.785     0.532       121\n",
      "     effect      0.387     0.874     0.537       183\n",
      "\n",
      "avg / total      0.395     0.763     0.500       520\n",
      "\n",
      "CPU times: user 6.8 s, sys: 74 ms, total: 6.88 s\n",
      "Wall time: 6.93 s\n"
     ]
    }
   ],
   "source": [
    "%%time\n",
    "\n",
    "mod2 = trainCRFAndEvaluate(\n",
    "            X_train = X_train_filtered, \n",
    "            y_train = y_train_filtered,\n",
    "            X_test = X_test_filtered,\n",
    "            y_test = y_test_filtered,\n",
    "            labels = ['mechanism', 'int', 'advise', 'effect'],\n",
    "            hyperparam_optim = False)"
   ]
  },
  {
   "cell_type": "code",
   "execution_count": 7,
   "metadata": {
    "collapsed": true
   },
   "outputs": [],
   "source": [
    "y_pred_type = mod2.predict(X_test_filtered)"
   ]
  },
  {
   "cell_type": "code",
   "execution_count": 16,
   "metadata": {
    "collapsed": false
   },
   "outputs": [
    {
     "name": "stdout",
     "output_type": "stream",
     "text": [
      "             precision    recall  f1-score   support\n",
      "\n",
      "  mechanism      0.371     0.427     0.397       302\n",
      "     advise      0.403     0.430     0.416       221\n",
      "     effect      0.387     0.444     0.414       360\n",
      "        int      0.464     0.135     0.210        96\n",
      "\n",
      "avg / total      0.393     0.406     0.389       979\n",
      "\n"
     ]
    }
   ],
   "source": [
    "joinResultsFirstSecondModel(y_test_type = y_test_type, y_pred_type = y_pred_type, y_pred_int = y_pred_int)"
   ]
  },
  {
   "cell_type": "code",
   "execution_count": 10,
   "metadata": {
    "collapsed": false
   },
   "outputs": [
    {
     "name": "stdout",
     "output_type": "stream",
     "text": [
      "Top positive:\n",
      "4.077044 advise   first_modal_sentence:should\n",
      "1.935437 advise   sentence_contains_neg\n",
      "1.929185 effect   2_grams_bw_entities:- \n",
      "1.623370 effect   3_grams_bw_entities:N a\n",
      "1.334241 int      POS_tags_sentence_simpl:VB-IN-JJ-NN-,-EX-MD-VB-DT-NN-IN-NN-CC-NN-.\n",
      "1.321691 int      3_grams_bw_entities:int\n",
      "1.295215 int      POS_tags_sentence_simpl:NN-IN-NN-CC-NN-IN-NN-.\n",
      "1.267537 advise   POS_tags_sentence_simpl:IN-NN-VB-DT-JJ-NN-IN-NN-,-CC-NN-VB-NN-IN-RB-,-JJ-NN-IN-DT-NN-,-VB-NN-,-CC-NN-VB-JJ-NN-IN-NN-TO-VB-JJ-IN-DT-NN-IN-PR-JJ-NN-VB-.\n",
      "1.262986 effect   3_grams_bw_entities:pic\n",
      "1.239781 effect   3_grams_bw_entities:d l\n",
      "1.217507 effect   POS_tags_sentence_simpl:RB-,-DT-NN-IN-NN-IN-NN-,-JJ-NN-CC-NN-VB-JJ\n",
      "1.216372 effect   POS_tags_sentence_simpl:NN-:-NN-MD-VB-IN-NN-.\n",
      "1.179450 advise   ent1_pos_tag_prev_word3:TO\n",
      "1.150829 effect   POS_tags_sentence_simpl:NN-VB-IN-JJ-NN-VB-DT-NN-IN-NN-,-VB-IN-VB-NN-IN-NN-CC-PR-JJ-NN-WD-MD-VB-NN-.\n",
      "1.132549 mechanism 3_grams_bw_entities:y f\n",
      "\n",
      "Top negative:\n",
      "-1.090791 mechanism 3_grams_bw_entities:d o\n",
      "-1.092367 mechanism 3_grams_bw_entities:nsi\n",
      "-1.107671 mechanism ent1_pos_tag_prev_word3:VB\n",
      "-1.135672 advise   first_modal_sentence:none\n",
      "-1.143340 effect   3_grams_bw_entities:ire\n",
      "-1.151573 effect   2_grams_bw_entities:MO\n",
      "-1.152253 mechanism 3_grams_bw_entities:miz\n",
      "-1.179424 advise   sent_contains_but\n",
      "-1.182259 mechanism 3_grams_bw_entities:omo\n",
      "-1.282127 mechanism 3_grams_bw_entities:atr\n",
      "-1.415207 none     n_entities\n",
      "-1.429719 effect   first_modal_sentence:should\n",
      "-1.514200 advise   first_modal_sentence:may\n",
      "-1.863552 mechanism 3_grams_bw_entities:oid\n",
      "-2.012393 mechanism first_modal_sentence:should\n"
     ]
    }
   ],
   "source": [
    "import collections\n",
    "\n",
    "def print_state_features(state_features):\n",
    "    for (attr, label), weight in state_features:\n",
    "        print(\"%0.6f %-8s %s\" % (weight, label, attr))\n",
    "\n",
    "print(\"Top positive:\")\n",
    "print_state_features(collections.Counter(mod2.state_features_).most_common(15))\n",
    "\n",
    "print(\"\\nTop negative:\")\n",
    "print_state_features(collections.Counter(mod2.state_features_).most_common()[-15:])\n",
    "\n"
   ]
  },
  {
   "cell_type": "code",
   "execution_count": null,
   "metadata": {
    "collapsed": true
   },
   "outputs": [],
   "source": []
  }
 ],
 "metadata": {
  "anaconda-cloud": {},
  "kernelspec": {
   "display_name": "Python [Root]",
   "language": "python",
   "name": "Python [Root]"
  },
  "language_info": {
   "codemirror_mode": {
    "name": "ipython",
    "version": 3
   },
   "file_extension": ".py",
   "mimetype": "text/x-python",
   "name": "python",
   "nbconvert_exporter": "python",
   "pygments_lexer": "ipython3",
   "version": "3.5.2"
  }
 },
 "nbformat": 4,
 "nbformat_minor": 0
}
