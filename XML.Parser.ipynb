{
 "cells": [
  {
   "cell_type": "markdown",
   "metadata": {},
   "source": [
    "# Drug Name Entity Classifier\n",
    "## AHLT - MIRI 2018\n",
    "\n"
   ]
  },
  {
   "cell_type": "markdown",
   "metadata": {},
   "source": [
    "## Initialization\n",
    "\n",
    "Load needed modules and specify the working directory"
   ]
  },
  {
   "cell_type": "code",
   "execution_count": 1,
   "metadata": {
    "collapsed": true
   },
   "outputs": [],
   "source": [
    "# Load needed packages\n",
    "from lxml import etree # XML file parsing\n",
    "from os import listdir\n",
    "import pandas as pd\n",
    "import numpy as np\n",
    "from sklearn import svm\n",
    "from sklearn.model_selection import GridSearchCV # Parameter selection\n",
    "import time # Execution time of some blocks\n",
    "from nltk.tag import StanfordPOSTagger\n",
    "import statistics\n",
    "\n",
    "# Import our defined functions\n",
    "from drug_functions import *"
   ]
  },
  {
   "cell_type": "code",
   "execution_count": 2,
   "metadata": {
    "collapsed": true
   },
   "outputs": [],
   "source": [
    "# Set the data directories\n",
    "train_dirs_whereto_parse = ['data/small_train_DrugBank']\n",
    "test_dirs_whereto_parse = ['data/small_test_DrugBank']"
   ]
  },
  {
   "cell_type": "markdown",
   "metadata": {},
   "source": [
    "## Reading the train and test data from the XML files\n",
    "Accessing to all the files of the directory and storing id's and text's in two arrays.\n",
    "We have also added the token 'STOP' at the end of each sentence."
   ]
  },
  {
   "cell_type": "code",
   "execution_count": 3,
   "metadata": {
    "collapsed": false
   },
   "outputs": [
    {
     "data": {
      "text/plain": [
       "[('START Formal drug interaction studies have not been conducted with ORENCIA. STOP',\n",
       "  ['ORENCIA']),\n",
       " ('START Population pharmacokinetic analyses revealed that MTX, NSAIDs, corticosteroids, and TNF blocking agents did not influence abatacept clearance. STOP',\n",
       "  ['MTX', 'NSAIDs', 'corticosteroids', 'TNF blocking agents', 'abatacept'])]"
      ]
     },
     "execution_count": 3,
     "metadata": {},
     "output_type": "execute_result"
    }
   ],
   "source": [
    "## TRAINING DATA\n",
    "\n",
    "# Initialise the different lists with the data\n",
    "entities=[]\n",
    "texts=[]\n",
    "train_texts_entities = []\n",
    "\n",
    "# Iterate over all the different .xml files located in the specified directories\n",
    "for directory in train_dirs_whereto_parse:\n",
    "    \n",
    "    # Get the names of all the files in the directory and create a 'xml.root' object for\n",
    "    # each xml file\n",
    "    roots = [etree.parse(directory+'/'+a).getroot() for a in listdir(directory) if a.endswith('.xml')]\n",
    "    \n",
    "    # Iterate over all the different 'xml.root' objects to extract the needed information\n",
    "    for root in roots:\n",
    "        for sentence in root.findall('sentence'):\n",
    "            for entity in sentence.findall('entity'):\n",
    "                entities = entities+[entity.get('text')]\n",
    "            train_texts_entities = train_texts_entities + [('START '+sentence.get('text')+' STOP', entities)]\n",
    "            entities =[]\n",
    "\n",
    "# train_texts_entities is a list of tuples. Each one is comprised of the sentence and the drugs in there\n",
    "# Example: \n",
    "# [('I love Ibuprofeno and Frenadol', ['Ibuprofeno', 'Frenadol']), ('Give me a Fluimucil', ['Fluimucil'])]\n",
    "\n",
    "train_texts_entities[0:2]"
   ]
  },
  {
   "cell_type": "code",
   "execution_count": 4,
   "metadata": {
    "collapsed": false
   },
   "outputs": [
    {
     "name": "stdout",
     "output_type": "stream",
     "text": [
      "('Laboratory Tests Response to Plenaxis should be monitored by measuring serum total testosterone concentrations just prior to administration on Day 29 and every 8 weeks thereafter.\\n', ['testosterone', 'Plenaxis'])\n"
     ]
    }
   ],
   "source": [
    "## TESTING DATA\n",
    "\n",
    "# Same process as with the training data\n",
    "# In the testing data, for each sentance we have two related files:\n",
    "# - A file with a sentence to be parsed, in which we may encounter drug names (ending with 'text.txt')\n",
    "# - A file with the drug entities recognised in the sentence (ending with 'entities.txt')\n",
    "\n",
    "test_texts = []\n",
    "test_entities = []\n",
    "\n",
    "for directory in test_dirs_whereto_parse:\n",
    "    \n",
    "    # Si no poso el sorted, em llegeix els files amb un ordre aleatori.\n",
    "    # Amb el sorted m'asseguro que els corresponents files text.txt i entities.txt estan en la mateixa posicio\n",
    "    \n",
    "    # Read the pairs of files in alphabetical order\n",
    "    text_file_names = sorted([directory + '/' + file for file in listdir(directory) if file.endswith('text.txt')])\n",
    "    entities_file_names = sorted([directory + '/' + file for file in listdir(directory) if file.endswith('entities.txt')])\n",
    "    \n",
    "    for file in text_file_names:\n",
    "        file = open(file,'r')\n",
    "        test_texts = test_texts + [file.read()]\n",
    "        \n",
    "    for file in entities_file_names:\n",
    "        read_entities = []\n",
    "        with open(file,'r') as f:\n",
    "            for line in f:\n",
    "                read_entities = read_entities+[' '.join(line.split()[0:-1])] # separo en words, el.limino la ultima i torno a unir\n",
    "                \n",
    "        test_entities.append(read_entities)\n",
    "\n",
    "\n",
    "test_texts_entities=list(zip(test_texts,test_entities))\n",
    "\n",
    "\n",
    "# test_texts_entities is a list of tuples. Each one is comprised of the sentence and the drugs in there.\n",
    "print(test_texts_entities[4])"
   ]
  },
  {
   "cell_type": "markdown",
   "metadata": {},
   "source": [
    "# Creating the features for the classifier"
   ]
  },
  {
   "cell_type": "markdown",
   "metadata": {},
   "source": [
    "## BIO Tagger and Feature Creation\n",
    "\n",
    "In this section we will tag each sentence with the BIO format. For this, we have created a function called 'BIOTagger' which will perform the following actions:\n",
    "\n",
    "Given a sentence 'text' and a set of drugs 'drugs', this function returns a list of str that\n",
    "contains a tag for each of the tokens in text. The tags can be either 'B', 'I' or 'O'. 'B' means\n",
    "the token is the first part of a drug entity, 'I' means the token is the continuation of a drug entity,\n",
    "and 'O' means that the token does not belong to a drug entity.\n",
    "\n",
    "Apart from that, we have also downloaded the DrugBank database (ref: https://www.drugbank.ca/) from we will extract all the named entities. We will create a list out of these set of entities and for each token processed, we will check if the token is already in the database, meaning that has a very high probability of being a NE."
   ]
  },
  {
   "cell_type": "code",
   "execution_count": 5,
   "metadata": {
    "collapsed": false
   },
   "outputs": [],
   "source": [
    "# Load the DrugBank list of entities (it has already been processed for the extraction of the NE).\n",
    "# Each line of the file contains a different named entity.\n",
    "with(open('data/DrugBank_names_DB.txt', 'r')) as f:\n",
    "    drugbank_db = f.read().splitlines()\n",
    "        \n",
    "# Initialise the needed lists\n",
    "tokens = []\n",
    "tags = []\n",
    "removed_columns = []\n",
    "features = pd.DataFrame()\n",
    "\n",
    "# Creating StanfordPOStagger. We will need it as a createFeatureVector function parameter\n",
    "jar='Stanford_POStagger/stanford-postagger.jar'\n",
    "model='Stanford_POStagger/models/english-bidirectional-distsim.tagger'\n",
    "st = StanfordPOSTagger(model,jar, encoding='utf-8')\n",
    "\n",
    "# Iterate over all the train entities (tuples of (sentence, drugs)) and apply the BIOTagger function\n",
    "for text,drugs in train_texts_entities:\n",
    "    features = pd.concat([features,createFeatureVector(text, drugbank_db,st)])\n",
    "    tuples = BOTagger(text, drugs)\n",
    "    tokens = tokens + [word[0] for word in tuples]\n",
    "    tags = tags + [word[1] for word in tuples]\n",
    "\n",
    "# computing one-hot coding for 'Aa1-' feature.\n",
    "training_dummies = pd.get_dummies(features['Aa1-'])\n",
    "features = features.drop('Aa1-',axis=1)\n",
    "# joining both data frames\n",
    "for name in training_dummies.columns:\n",
    "    features[name]=training_dummies[name]\n",
    "\n",
    "'''\n",
    "# Remove these features columns that are all 0. We will find many in those indicating pos_tags\n",
    "for column in features.columns.values:\n",
    "    if sum(features[column])==0:\n",
    "        features = features.drop(column,axis=1)\n",
    "        removed_columns.append(column)\n",
    "'''\n",
    "\n",
    "# Create a training set with the features,tokens and the BIO tags\n",
    "train_df = features\n",
    "train_df['token'] = tokens\n",
    "train_df['output'] = tags\n"
   ]
  },
  {
   "cell_type": "code",
   "execution_count": 6,
   "metadata": {
    "collapsed": false
   },
   "outputs": [
    {
     "name": "stdout",
     "output_type": "stream",
     "text": [
      "207\n",
      "161\n",
      "0\n",
      "['O' 'B']\n"
     ]
    },
    {
     "data": {
      "text/html": [
       "<div>\n",
       "<style>\n",
       "    .dataframe thead tr:only-child th {\n",
       "        text-align: right;\n",
       "    }\n",
       "\n",
       "    .dataframe thead th {\n",
       "        text-align: left;\n",
       "    }\n",
       "\n",
       "    .dataframe tbody tr th {\n",
       "        vertical-align: top;\n",
       "    }\n",
       "</style>\n",
       "<table border=\"1\" class=\"dataframe\">\n",
       "  <thead>\n",
       "    <tr style=\"text-align: right;\">\n",
       "      <th></th>\n",
       "      <th>token_length</th>\n",
       "      <th>prefix_feature</th>\n",
       "      <th>suffix_feature</th>\n",
       "      <th>all_uppercase_letters</th>\n",
       "      <th>all_lowercase_letters</th>\n",
       "      <th>initial_capital_letter</th>\n",
       "      <th>contains_slash</th>\n",
       "      <th>all_letters</th>\n",
       "      <th>all_digits</th>\n",
       "      <th>contains_digit</th>\n",
       "      <th>...</th>\n",
       "      <th>1-</th>\n",
       "      <th>1-A</th>\n",
       "      <th>1a-</th>\n",
       "      <th>A</th>\n",
       "      <th>Aa</th>\n",
       "      <th>Aa-</th>\n",
       "      <th>a</th>\n",
       "      <th>a-</th>\n",
       "      <th>token</th>\n",
       "      <th>output</th>\n",
       "    </tr>\n",
       "  </thead>\n",
       "  <tbody>\n",
       "    <tr>\n",
       "      <th>0</th>\n",
       "      <td>5</td>\n",
       "      <td>0</td>\n",
       "      <td>0</td>\n",
       "      <td>1</td>\n",
       "      <td>0</td>\n",
       "      <td>1</td>\n",
       "      <td>0</td>\n",
       "      <td>1</td>\n",
       "      <td>0</td>\n",
       "      <td>0</td>\n",
       "      <td>...</td>\n",
       "      <td>0</td>\n",
       "      <td>0</td>\n",
       "      <td>0</td>\n",
       "      <td>1</td>\n",
       "      <td>0</td>\n",
       "      <td>0</td>\n",
       "      <td>0</td>\n",
       "      <td>0</td>\n",
       "      <td>START</td>\n",
       "      <td>O</td>\n",
       "    </tr>\n",
       "    <tr>\n",
       "      <th>1</th>\n",
       "      <td>6</td>\n",
       "      <td>0</td>\n",
       "      <td>1</td>\n",
       "      <td>0</td>\n",
       "      <td>0</td>\n",
       "      <td>1</td>\n",
       "      <td>0</td>\n",
       "      <td>0</td>\n",
       "      <td>0</td>\n",
       "      <td>0</td>\n",
       "      <td>...</td>\n",
       "      <td>0</td>\n",
       "      <td>0</td>\n",
       "      <td>0</td>\n",
       "      <td>0</td>\n",
       "      <td>1</td>\n",
       "      <td>0</td>\n",
       "      <td>0</td>\n",
       "      <td>0</td>\n",
       "      <td>Formal</td>\n",
       "      <td>O</td>\n",
       "    </tr>\n",
       "    <tr>\n",
       "      <th>2</th>\n",
       "      <td>4</td>\n",
       "      <td>0</td>\n",
       "      <td>0</td>\n",
       "      <td>0</td>\n",
       "      <td>1</td>\n",
       "      <td>0</td>\n",
       "      <td>0</td>\n",
       "      <td>0</td>\n",
       "      <td>0</td>\n",
       "      <td>0</td>\n",
       "      <td>...</td>\n",
       "      <td>0</td>\n",
       "      <td>0</td>\n",
       "      <td>0</td>\n",
       "      <td>0</td>\n",
       "      <td>0</td>\n",
       "      <td>0</td>\n",
       "      <td>1</td>\n",
       "      <td>0</td>\n",
       "      <td>drug</td>\n",
       "      <td>O</td>\n",
       "    </tr>\n",
       "    <tr>\n",
       "      <th>3</th>\n",
       "      <td>11</td>\n",
       "      <td>0</td>\n",
       "      <td>0</td>\n",
       "      <td>0</td>\n",
       "      <td>1</td>\n",
       "      <td>0</td>\n",
       "      <td>0</td>\n",
       "      <td>0</td>\n",
       "      <td>0</td>\n",
       "      <td>0</td>\n",
       "      <td>...</td>\n",
       "      <td>0</td>\n",
       "      <td>0</td>\n",
       "      <td>0</td>\n",
       "      <td>0</td>\n",
       "      <td>0</td>\n",
       "      <td>0</td>\n",
       "      <td>1</td>\n",
       "      <td>0</td>\n",
       "      <td>interaction</td>\n",
       "      <td>O</td>\n",
       "    </tr>\n",
       "    <tr>\n",
       "      <th>4</th>\n",
       "      <td>7</td>\n",
       "      <td>0</td>\n",
       "      <td>0</td>\n",
       "      <td>0</td>\n",
       "      <td>1</td>\n",
       "      <td>0</td>\n",
       "      <td>0</td>\n",
       "      <td>0</td>\n",
       "      <td>0</td>\n",
       "      <td>0</td>\n",
       "      <td>...</td>\n",
       "      <td>0</td>\n",
       "      <td>0</td>\n",
       "      <td>0</td>\n",
       "      <td>0</td>\n",
       "      <td>0</td>\n",
       "      <td>0</td>\n",
       "      <td>1</td>\n",
       "      <td>0</td>\n",
       "      <td>studies</td>\n",
       "      <td>O</td>\n",
       "    </tr>\n",
       "  </tbody>\n",
       "</table>\n",
       "<p>5 rows × 67 columns</p>\n",
       "</div>"
      ],
      "text/plain": [
       "   token_length  prefix_feature  suffix_feature  all_uppercase_letters  \\\n",
       "0             5               0               0                      1   \n",
       "1             6               0               1                      0   \n",
       "2             4               0               0                      0   \n",
       "3            11               0               0                      0   \n",
       "4             7               0               0                      0   \n",
       "\n",
       "   all_lowercase_letters  initial_capital_letter  contains_slash  all_letters  \\\n",
       "0                      0                       1               0            1   \n",
       "1                      0                       1               0            0   \n",
       "2                      1                       0               0            0   \n",
       "3                      1                       0               0            0   \n",
       "4                      1                       0               0            0   \n",
       "\n",
       "   all_digits  contains_digit   ...    1-  1-A  1a-  A  Aa  Aa-  a  a-  \\\n",
       "0           0               0   ...     0    0    0  1   0    0  0   0   \n",
       "1           0               0   ...     0    0    0  0   1    0  0   0   \n",
       "2           0               0   ...     0    0    0  0   0    0  1   0   \n",
       "3           0               0   ...     0    0    0  0   0    0  1   0   \n",
       "4           0               0   ...     0    0    0  0   0    0  1   0   \n",
       "\n",
       "         token  output  \n",
       "0        START       O  \n",
       "1       Formal       O  \n",
       "2         drug       O  \n",
       "3  interaction       O  \n",
       "4      studies       O  \n",
       "\n",
       "[5 rows x 67 columns]"
      ]
     },
     "execution_count": 6,
     "metadata": {},
     "output_type": "execute_result"
    }
   ],
   "source": [
    "# How many tokens have we tagged with the DrugBank?\n",
    "print(sum(train_df['is_token_in_DrugBank_db'] == 1))\n",
    "\n",
    "# How many tokens are actually tagged with a 'B' or a 'I'?\n",
    "print(sum(train_df['output'] == 'B'))\n",
    "print(sum(train_df['output'] == 'I'))\n",
    "#train_df[train_df['is_token_in_DrugBank_db'] == 1]\n",
    "\n",
    "# Which are our unique values?\n",
    "print(train_df.output.unique())\n",
    "\n",
    "\n",
    "train_df.head()"
   ]
  },
  {
   "cell_type": "markdown",
   "metadata": {},
   "source": [
    "# Building the classifier\n",
    "## Support Vector Machines\n",
    "\n",
    "The advantages of support vector machines are:\n",
    "\n",
    "- Effective in high dimensional spaces.\n",
    "- Still effective in cases where number of dimensions is greater than the number of samples.\n",
    "- Uses a subset of training points in the decision function (called support vectors), so it is also memory efficient.\n",
    "- Versatile: different Kernel functions can be specified for the decision function. Common kernels are provided, but it is also possible to specify custom kernels.\n",
    "\n",
    "The disadvantages of support vector machines include:\n",
    "\n",
    "- If the number of features is much greater than the number of samples, avoid over-fitting in choosing Kernel functions and regularization term is crucial.\n",
    "- SVMs do not directly provide probability estimates, these are calculated using an expensive five-fold cross-validation (see Scores and probabilities, below)."
   ]
  },
  {
   "cell_type": "code",
   "execution_count": 7,
   "metadata": {
    "collapsed": true
   },
   "outputs": [],
   "source": [
    "# Name of the target variable\n",
    "target_name = 'output'\n",
    "token_name = 'token'\n",
    "\n",
    "# Create the appropiate data structure to pass it to the SVM.\n",
    "# X columns should be all but target_name and token_name\n",
    "X = train_df.loc[:, [all(x) for x in list(zip(train_df.columns!=target_name,train_df.columns!=token_name))]]\n",
    "Y = train_df[target_name]"
   ]
  },
  {
   "cell_type": "markdown",
   "metadata": {},
   "source": [
    "### Tunning SVM in python"
   ]
  },
  {
   "cell_type": "code",
   "execution_count": 8,
   "metadata": {
    "collapsed": false
   },
   "outputs": [
    {
     "name": "stdout",
     "output_type": "stream",
     "text": [
      "Execution time for GridSearchCV:  0.00010895729064941406\n"
     ]
    }
   ],
   "source": [
    "# Create a SVM object with the corresponding tunned parameters\n",
    "parameters = {'kernel':('linear', 'rbf'), 'C':[1, 10]}\n",
    "svc = svm.SVC()\n",
    "\n",
    "# Look for the best parameters of the SVM model with GridSearchCV\n",
    "start = time.time()\n",
    "clf = GridSearchCV(svc, parameters)\n",
    "end = time.time()\n",
    "print('Execution time for GridSearchCV: ', str(end - start))"
   ]
  },
  {
   "cell_type": "code",
   "execution_count": 9,
   "metadata": {
    "collapsed": false
   },
   "outputs": [
    {
     "name": "stdout",
     "output_type": "stream",
     "text": [
      "Training time of the SVM:  0.6599390506744385\n"
     ]
    }
   ],
   "source": [
    "# Train the SVM model with the parameters selected before\n",
    "start = time.time()\n",
    "clf.fit(X,Y)\n",
    "end = time.time()\n",
    "print('Training time of the SVM: ', str(end - start))"
   ]
  },
  {
   "cell_type": "code",
   "execution_count": 10,
   "metadata": {
    "collapsed": false
   },
   "outputs": [],
   "source": [
    "# Computing training error. If there is a significant drop from training error to test error, we will be suffering \n",
    "# from overfitting\n",
    "\n",
    "train_predictions = []\n",
    "for text,entities in train_texts_entities:\n",
    "    # print('text: ', text)\n",
    "    # print('real entities: ',entities,'\\n')\n",
    "    \n",
    "    # tokenize text\n",
    "    tokens = nltk.word_tokenize(text)\n",
    "    # computing predictions\n",
    "    features = createFeatureVector(text, drugbank_db,st)\n",
    "    \n",
    "    # computing one-hot coding for 'Aa1-' feature.\n",
    "    dummies = pd.get_dummies(features['Aa1-'])\n",
    "    features = features.drop('Aa1-',axis=1)\n",
    "    # joining both data frames\n",
    "    for name in dummies.columns:\n",
    "        features[name]=dummies[name]\n",
    "    \n",
    "    # adding those columns related to Aa1- that we cannot see with the sentence in question\n",
    "    for name in training_dummies.columns:\n",
    "        if name not in dummies.columns:\n",
    "            features[name]=[0]*len(dummies[dummies.columns.values[0]])\n",
    "    \n",
    "  \n",
    "    predicted_tags = clf.predict(features)\n",
    "    \n",
    "    \n",
    "    train_predictions.append((list(predicted_tags),entities,text)) \n",
    "    # print('predicted bio tags: ',predicted_tags,'\\n')\n",
    "    pred_entities = BIOTagsToEntities(tokens = tokens, bio_tags = predicted_tags)\n",
    "    # print('predicted entities: ', pred_entities, '\\n')\n",
    "    \n",
    "# predictions is a list of tupples comprised of predicted tags and the true drugs we should extract from there\n",
    "#print('predictions of text 1: ',predictions[1])"
   ]
  },
  {
   "cell_type": "code",
   "execution_count": 11,
   "metadata": {
    "collapsed": false
   },
   "outputs": [
    {
     "name": "stdout",
     "output_type": "stream",
     "text": [
      "train precision:  61.62903225806452\n",
      "train recall:  67.98387096774194\n",
      "F1 train:  64.65\n"
     ]
    }
   ],
   "source": [
    "import statistics\n",
    "train_precision = []\n",
    "train_recall = []\n",
    "for tags, true_entities, text in train_predictions:\n",
    "    # I need the tokens for the bioTagsToEntities function\n",
    "    tokens = nltk.word_tokenize(text)\n",
    "    predicted_entities = BIOTagsToEntities(tokens,tags)\n",
    "    train_precision = train_precision + [compute_precision(predicted_entities,true_entities)]\n",
    "    train_recall = train_recall + [compute_recall(predicted_entities,true_entities)]\n",
    "\n",
    "    \n",
    "avg_precision = statistics.mean(train_precision)\n",
    "avg_recall = statistics.mean(train_recall)\n",
    "print('train precision: ',avg_precision)\n",
    "print('train recall: ',avg_recall)\n",
    "\n",
    "# F1 metric\n",
    "F1_train = round((2*avg_precision*avg_recall) / (avg_precision + avg_recall),2)\n",
    "print('F1 train: ', F1_train)"
   ]
  },
  {
   "cell_type": "markdown",
   "metadata": {},
   "source": [
    "### Making predictions"
   ]
  },
  {
   "cell_type": "code",
   "execution_count": 12,
   "metadata": {
    "collapsed": false
   },
   "outputs": [
    {
     "name": "stdout",
     "output_type": "stream",
     "text": [
      "original text:  [('No', 'O'), ('drug', 'O'), (',', 'O'), ('nutritional', 'O'), ('supplement', 'O'), (',', 'O'), ('food', 'O'), ('or', 'O'), ('herb', 'O'), ('interactions', 'O'), ('have', 'O'), ('yet', 'O'), ('been', 'O'), ('reported', 'O'), ('.', 'O')] \n",
      "\n",
      "predicted bio tags:  [('No', 'O'), ('drug', 'O'), (',', 'O'), ('nutritional', 'O'), ('supplement', 'O'), (',', 'O'), ('food', 'O'), ('or', 'O'), ('herb', 'O'), ('interactions', 'O'), ('have', 'O'), ('yet', 'O'), ('been', 'O'), ('reported', 'O'), ('.', 'O')] \n",
      "\n",
      "predicted entities:  [] \n",
      "\n",
      "original text:  [('No', 'O'), ('formal', 'O'), ('drug/drug', 'O'), ('interaction', 'O'), ('studies', 'O'), ('with', 'O'), ('Plenaxis', 'B'), ('were', 'O'), ('performed', 'O'), ('.', 'O')] \n",
      "\n",
      "predicted bio tags:  [('No', 'O'), ('formal', 'O'), ('drug/drug', 'B'), ('interaction', 'O'), ('studies', 'O'), ('with', 'O'), ('Plenaxis', 'B'), ('were', 'O'), ('performed', 'B'), ('.', 'O')] \n",
      "\n",
      "predicted entities:  ['drug/drug', 'Plenaxis'] \n",
      "\n",
      "original text:  [('Cytochrome', 'O'), ('P-450', 'O'), ('is', 'O'), ('not', 'O'), ('known', 'O'), ('to', 'O'), ('be', 'O'), ('involved', 'O'), ('in', 'O'), ('the', 'O'), ('metabolism', 'O'), ('of', 'O'), ('Plenaxis', 'B'), ('.', 'O')] \n",
      "\n",
      "predicted bio tags:  [('Cytochrome', 'O'), ('P-450', 'O'), ('is', 'O'), ('not', 'O'), ('known', 'O'), ('to', 'O'), ('be', 'O'), ('involved', 'O'), ('in', 'O'), ('the', 'O'), ('metabolism', 'B'), ('of', 'O'), ('Plenaxis', 'B'), ('.', 'O')] \n",
      "\n",
      "predicted entities:  ['metabolism'] \n",
      "\n",
      "original text:  [('Plenaxis', 'B'), ('is', 'O'), ('highly', 'O'), ('bound', 'O'), ('to', 'O'), ('plasma', 'O'), ('proteins', 'O'), ('(', 'O'), ('96', 'O'), ('to', 'O'), ('99', 'O'), ('%', 'O'), (')', 'O'), ('.', 'O')] \n",
      "\n",
      "predicted bio tags:  [('Plenaxis', 'O'), ('is', 'O'), ('highly', 'O'), ('bound', 'O'), ('to', 'O'), ('plasma', 'O'), ('proteins', 'B'), ('(', 'O'), ('96', 'O'), ('to', 'O'), ('99', 'O'), ('%', 'O'), (')', 'O'), ('.', 'O')] \n",
      "\n",
      "predicted entities:  ['proteins'] \n",
      "\n",
      "original text:  [('Laboratory', 'O'), ('Tests', 'O'), ('Response', 'O'), ('to', 'O'), ('Plenaxis', 'B'), ('should', 'O'), ('be', 'O'), ('monitored', 'O'), ('by', 'O'), ('measuring', 'O'), ('serum', 'O'), ('total', 'O'), ('testosterone', 'B'), ('concentrations', 'O'), ('just', 'O'), ('prior', 'O'), ('to', 'O'), ('administration', 'O'), ('on', 'O'), ('Day', 'O'), ('29', 'O'), ('and', 'O'), ('every', 'O'), ('8', 'O'), ('weeks', 'O'), ('thereafter', 'O'), ('.', 'O')] \n",
      "\n",
      "predicted bio tags:  [('Laboratory', 'O'), ('Tests', 'O'), ('Response', 'O'), ('to', 'O'), ('Plenaxis', 'B'), ('should', 'O'), ('be', 'O'), ('monitored', 'O'), ('by', 'O'), ('measuring', 'B'), ('serum', 'O'), ('total', 'O'), ('testosterone', 'B'), ('concentrations', 'O'), ('just', 'O'), ('prior', 'O'), ('to', 'O'), ('administration', 'O'), ('on', 'O'), ('Day', 'O'), ('29', 'O'), ('and', 'O'), ('every', 'O'), ('8', 'O'), ('weeks', 'O'), ('thereafter', 'O'), ('.', 'O')] \n",
      "\n",
      "predicted entities:  ['Plenaxis', 'measuring', 'testosterone'] \n",
      "\n",
      "original text:  [('Serum', 'O'), ('transaminase', 'O'), ('levels', 'O'), ('should', 'O'), ('be', 'O'), ('obtained', 'O'), ('before', 'O'), ('starting', 'O'), ('treatment', 'O'), ('with', 'O'), ('Plenaxis', 'B'), ('and', 'O'), ('periodically', 'O'), ('during', 'O'), ('treatment', 'O'), ('.', 'O')] \n",
      "\n",
      "predicted bio tags:  [('Serum', 'O'), ('transaminase', 'O'), ('levels', 'O'), ('should', 'O'), ('be', 'O'), ('obtained', 'O'), ('before', 'O'), ('starting', 'O'), ('treatment', 'O'), ('with', 'O'), ('Plenaxis', 'B'), ('and', 'O'), ('periodically', 'O'), ('during', 'O'), ('treatment', 'O'), ('.', 'O')] \n",
      "\n",
      "predicted entities:  ['Plenaxis'] \n",
      "\n",
      "original text:  [('Periodic', 'O'), ('measurement', 'O'), ('of', 'O'), ('serum', 'O'), ('PSA', 'O'), ('levels', 'O'), ('may', 'O'), ('also', 'O'), ('be', 'O'), ('considered', 'O'), ('.', 'O')] \n",
      "\n",
      "predicted bio tags:  [('Periodic', 'O'), ('measurement', 'O'), ('of', 'O'), ('serum', 'O'), ('PSA', 'O'), ('levels', 'O'), ('may', 'O'), ('also', 'O'), ('be', 'O'), ('considered', 'O'), ('.', 'O')] \n",
      "\n",
      "predicted entities:  [] \n",
      "\n",
      "original text:  [('Formal', 'O'), ('drug', 'O'), ('interaction', 'O'), ('studies', 'O'), ('have', 'O'), ('not', 'O'), ('been', 'O'), ('conducted', 'O'), ('with', 'O'), ('ORENCIA', 'B'), ('.', 'O')] \n",
      "\n",
      "predicted bio tags:  [('Formal', 'B'), ('drug', 'O'), ('interaction', 'O'), ('studies', 'O'), ('have', 'O'), ('not', 'O'), ('been', 'O'), ('conducted', 'O'), ('with', 'O'), ('ORENCIA', 'B'), ('.', 'O')] \n",
      "\n",
      "predicted entities:  ['Formal'] \n",
      "\n",
      "original text:  [('Population', 'O'), ('pharmacokinetic', 'O'), ('analyses', 'O'), ('revealed', 'O'), ('that', 'O'), ('MTX', 'B'), (',', 'O'), ('NSAIDs', 'B'), (',', 'O'), ('corticosteroids', 'B'), (',', 'O'), ('and', 'O'), ('TNF', 'B'), ('blocking', 'O'), ('agents', 'O'), ('did', 'O'), ('not', 'O'), ('influence', 'O'), ('abatacept', 'B'), ('clearance', 'O'), ('.', 'O')] \n",
      "\n",
      "predicted bio tags:  [('Population', 'O'), ('pharmacokinetic', 'O'), ('analyses', 'O'), ('revealed', 'O'), ('that', 'O'), ('MTX', 'B'), (',', 'O'), ('NSAIDs', 'B'), (',', 'O'), ('corticosteroids', 'B'), (',', 'O'), ('and', 'O'), ('TNF', 'O'), ('blocking', 'O'), ('agents', 'O'), ('did', 'O'), ('not', 'O'), ('influence', 'O'), ('abatacept', 'B'), ('clearance', 'O'), ('.', 'O')] \n",
      "\n",
      "predicted entities:  ['MTX', 'NSAIDs', 'corticosteroids', 'abatacept'] \n",
      "\n",
      "original text:  [('The', 'O'), ('majority', 'O'), ('of', 'O'), ('patients', 'O'), ('in', 'O'), ('RA', 'O'), ('clinical', 'O'), ('studies', 'O'), ('received', 'O'), ('one', 'O'), ('or', 'O'), ('more', 'O'), ('of', 'O'), ('the', 'O'), ('following', 'O'), ('concomitant', 'O'), ('medications', 'O'), ('with', 'O'), ('ORENCIA', 'B'), (':', 'O'), ('MTX', 'B'), (',', 'O'), ('NSAIDs', 'B'), (',', 'O'), ('corticosteroids', 'B'), (',', 'O'), ('TNF', 'B'), ('blocking', 'O'), ('agents', 'O'), (',', 'O'), ('azathioprine', 'B'), (',', 'O'), ('chloroquine', 'B'), (',', 'O'), ('gold', 'B'), (',', 'O'), ('hydroxychloroquine', 'B'), (',', 'O'), ('leflunomide', 'B'), (',', 'O'), ('sulfasalazine', 'B'), (',', 'O'), ('and', 'O'), ('anakinra', 'B'), ('.', 'O')] \n",
      "\n",
      "predicted bio tags:  [('The', 'O'), ('majority', 'O'), ('of', 'O'), ('patients', 'O'), ('in', 'O'), ('RA', 'O'), ('clinical', 'O'), ('studies', 'O'), ('received', 'O'), ('one', 'O'), ('or', 'O'), ('more', 'O'), ('of', 'O'), ('the', 'O'), ('following', 'O'), ('concomitant', 'O'), ('medications', 'B'), ('with', 'O'), ('ORENCIA', 'B'), (':', 'O'), ('MTX', 'B'), (',', 'O'), ('NSAIDs', 'B'), (',', 'O'), ('corticosteroids', 'B'), (',', 'O'), ('TNF', 'O'), ('blocking', 'O'), ('agents', 'O'), (',', 'O'), ('azathioprine', 'B'), (',', 'O'), ('chloroquine', 'B'), (',', 'O'), ('gold', 'O'), (',', 'O'), ('hydroxychloroquine', 'B'), (',', 'O'), ('leflunomide', 'B'), (',', 'O'), ('sulfasalazine', 'B'), (',', 'O'), ('and', 'O'), ('anakinra', 'B'), ('.', 'O')] \n",
      "\n",
      "predicted entities:  ['medications', 'ORENCIA', 'MTX', 'NSAIDs', 'corticosteroids', 'azathioprine', 'chloroquine', 'hydroxychloroquine', 'leflunomide', 'sulfasalazine'] \n",
      "\n",
      "original text:  [('Concurrent', 'O'), ('administration', 'O'), ('of', 'O'), ('a', 'O'), ('TNF', 'B'), ('antagonist', 'O'), ('with', 'O'), ('ORENCIA', 'B'), ('has', 'O'), ('been', 'O'), ('associated', 'O'), ('with', 'O'), ('an', 'O'), ('increased', 'O'), ('risk', 'O'), ('of', 'O'), ('serious', 'O'), ('infections', 'O'), ('and', 'O'), ('no', 'O'), ('significant', 'O'), ('additional', 'O'), ('efficacy', 'O'), ('over', 'O'), ('use', 'O'), ('of', 'O'), ('the', 'O'), ('TNF', 'B'), ('antagonists', 'O'), ('alone', 'O'), ('.', 'O')] \n",
      "\n",
      "predicted bio tags:  [('Concurrent', 'O'), ('administration', 'O'), ('of', 'O'), ('a', 'O'), ('TNF', 'O'), ('antagonist', 'O'), ('with', 'O'), ('ORENCIA', 'B'), ('has', 'O'), ('been', 'O'), ('associated', 'O'), ('with', 'O'), ('an', 'O'), ('increased', 'O'), ('risk', 'O'), ('of', 'O'), ('serious', 'O'), ('infections', 'O'), ('and', 'O'), ('no', 'O'), ('significant', 'B'), ('additional', 'O'), ('efficacy', 'B'), ('over', 'O'), ('use', 'O'), ('of', 'O'), ('the', 'O'), ('TNF', 'O'), ('antagonists', 'O'), ('alone', 'O'), ('.', 'O')] \n",
      "\n",
      "predicted entities:  ['ORENCIA', 'significant', 'efficacy'] \n",
      "\n",
      "original text:  [('Concurrent', 'O'), ('therapy', 'O'), ('with', 'O'), ('ORENCIA', 'B'), ('and', 'O'), ('TNF', 'B'), ('antagonists', 'O'), ('is', 'O'), ('not', 'O'), ('recommended', 'O'), ('.', 'O')] \n",
      "\n",
      "predicted bio tags:  [('Concurrent', 'O'), ('therapy', 'O'), ('with', 'O'), ('ORENCIA', 'B'), ('and', 'O'), ('TNF', 'O'), ('antagonists', 'O'), ('is', 'O'), ('not', 'O'), ('recommended', 'O'), ('.', 'O')] \n",
      "\n",
      "predicted entities:  ['ORENCIA'] \n",
      "\n",
      "original text:  [('There', 'O'), ('is', 'O'), ('insufficient', 'O'), ('experience', 'O'), ('to', 'O'), ('assess', 'O'), ('the', 'O'), ('safety', 'O'), ('and', 'O'), ('efficacy', 'O'), ('of', 'O'), ('ORENCIA', 'B'), ('administered', 'O'), ('concurrently', 'O'), ('with', 'O'), ('anakinra', 'B'), (',', 'O'), ('and', 'O'), ('therefore', 'O'), ('such', 'O'), ('use', 'O'), ('is', 'O'), ('not', 'O'), ('recommended', 'O'), ('.', 'O')] \n",
      "\n",
      "predicted bio tags:  [('There', 'O'), ('is', 'O'), ('insufficient', 'O'), ('experience', 'O'), ('to', 'O'), ('assess', 'O'), ('the', 'O'), ('safety', 'O'), ('and', 'O'), ('efficacy', 'O'), ('of', 'O'), ('ORENCIA', 'B'), ('administered', 'O'), ('concurrently', 'O'), ('with', 'O'), ('anakinra', 'B'), (',', 'O'), ('and', 'O'), ('therefore', 'O'), ('such', 'O'), ('use', 'O'), ('is', 'O'), ('not', 'O'), ('recommended', 'O'), ('.', 'O')] \n",
      "\n",
      "predicted entities:  ['ORENCIA', 'anakinra'] \n",
      "\n",
      "original text:  [('Formal', 'O'), ('drug', 'O'), ('interaction', 'O'), ('studies', 'O'), ('with', 'O'), ('Abciximab', 'B'), ('have', 'O'), ('not', 'O'), ('been', 'O'), ('conducted', 'O'), ('.', 'O')] \n",
      "\n",
      "predicted bio tags:  [('Formal', 'B'), ('drug', 'O'), ('interaction', 'O'), ('studies', 'O'), ('with', 'O'), ('Abciximab', 'B'), ('have', 'O'), ('not', 'O'), ('been', 'O'), ('conducted', 'O'), ('.', 'O')] \n",
      "\n",
      "predicted entities:  ['Formal', 'Abciximab'] \n",
      "\n",
      "original text:  [('Abciximab', 'B'), ('has', 'O'), ('been', 'O'), ('administered', 'O'), ('to', 'O'), ('patients', 'O'), ('with', 'O'), ('ischemic', 'O'), ('heart', 'O'), ('disease', 'O'), ('treated', 'O'), ('concomitantly', 'O'), ('with', 'O'), ('a', 'O'), ('broad', 'O'), ('range', 'O'), ('of', 'O'), ('medications', 'O'), ('used', 'O'), ('in', 'O'), ('the', 'O'), ('treatment', 'O'), ('of', 'O'), ('angina', 'O'), ('myocardial', 'O'), ('infarction', 'O'), ('and', 'O'), ('hypertension', 'O'), ('.', 'O')] \n",
      "\n",
      "predicted bio tags:  [('Abciximab', 'B'), ('has', 'O'), ('been', 'O'), ('administered', 'O'), ('to', 'O'), ('patients', 'O'), ('with', 'O'), ('ischemic', 'B'), ('heart', 'O'), ('disease', 'B'), ('treated', 'O'), ('concomitantly', 'O'), ('with', 'O'), ('a', 'O'), ('broad', 'O'), ('range', 'O'), ('of', 'O'), ('medications', 'B'), ('used', 'O'), ('in', 'O'), ('the', 'O'), ('treatment', 'O'), ('of', 'O'), ('angina', 'O'), ('myocardial', 'O'), ('infarction', 'O'), ('and', 'O'), ('hypertension', 'O'), ('.', 'O')] \n",
      "\n",
      "predicted entities:  ['Abciximab', 'ischemic', 'disease', 'medications'] \n",
      "\n",
      "original text:  [('These', 'O'), ('medications', 'O'), ('have', 'O'), ('included', 'O'), ('heparin', 'B'), (',', 'O'), ('warfarin', 'B'), (',', 'O'), ('beta-adrenergic', 'B'), ('receptor', 'O'), ('blockers', 'O'), (',', 'O'), ('calcium', 'B'), ('channel', 'O'), ('antagonists', 'O'), (',', 'O'), ('angiotensin', 'B'), ('converting', 'O'), ('enzyme', 'O'), ('inhibitors', 'O'), (',', 'O'), ('intravenous', 'O'), ('and', 'O'), ('oral', 'O'), ('nitrates', 'B'), (',', 'O'), ('ticlopidine', 'B'), (',', 'O'), ('and', 'O'), ('aspirin', 'B'), ('.', 'O')] \n",
      "\n",
      "predicted bio tags:  [('These', 'O'), ('medications', 'O'), ('have', 'O'), ('included', 'O'), ('heparin', 'B'), (',', 'O'), ('warfarin', 'B'), (',', 'O'), ('beta-adrenergic', 'B'), ('receptor', 'O'), ('blockers', 'O'), (',', 'O'), ('calcium', 'B'), ('channel', 'O'), ('antagonists', 'O'), (',', 'O'), ('angiotensin', 'B'), ('converting', 'O'), ('enzyme', 'O'), ('inhibitors', 'B'), (',', 'O'), ('intravenous', 'O'), ('and', 'O'), ('oral', 'O'), ('nitrates', 'B'), (',', 'O'), ('ticlopidine', 'B'), (',', 'O'), ('and', 'O'), ('aspirin', 'O'), ('.', 'O')] \n",
      "\n",
      "predicted entities:  ['heparin', 'warfarin', 'beta-adrenergic', 'calcium', 'angiotensin', 'inhibitors', 'nitrates', 'ticlopidine'] \n",
      "\n",
      "original text:  [('Heparin', 'B'), (',', 'O'), ('other', 'O'), ('anticoagulants', 'B'), (',', 'O'), ('thrombolytics', 'B'), (',', 'O'), ('and', 'O'), ('anti', 'B'), ('platelet', 'O'), ('agents', 'O'), ('are', 'O'), ('associated', 'O'), ('with', 'O'), ('an', 'O'), ('increase', 'O'), ('in', 'O'), ('bleeding', 'O'), ('.', 'O')] \n",
      "\n",
      "predicted bio tags:  [('Heparin', 'B'), (',', 'O'), ('other', 'O'), ('anticoagulants', 'B'), (',', 'O'), ('thrombolytics', 'O'), (',', 'O'), ('and', 'O'), ('anti', 'O'), ('platelet', 'B'), ('agents', 'O'), ('are', 'O'), ('associated', 'O'), ('with', 'O'), ('an', 'O'), ('increase', 'O'), ('in', 'O'), ('bleeding', 'O'), ('.', 'O')] \n",
      "\n",
      "predicted entities:  ['Heparin', 'anticoagulants', 'platelet'] \n",
      "\n",
      "original text:  [('Patients', 'O'), ('with', 'O'), ('HACA', 'O'), ('titers', 'O'), ('may', 'O'), ('have', 'O'), ('allergic', 'O'), ('or', 'O'), ('hypersensitivity', 'O'), ('reactions', 'O'), ('when', 'O'), ('treated', 'O'), ('with', 'O'), ('other', 'O'), ('diagnostic', 'B'), ('or', 'O'), ('therapeutic', 'B'), ('monoclonal', 'O'), ('antibodies', 'O'), ('.', 'O')] \n",
      "\n",
      "predicted bio tags:  [('Patients', 'O'), ('with', 'O'), ('HACA', 'O'), ('titers', 'O'), ('may', 'O'), ('have', 'O'), ('allergic', 'O'), ('or', 'O'), ('hypersensitivity', 'O'), ('reactions', 'O'), ('when', 'O'), ('treated', 'O'), ('with', 'O'), ('other', 'O'), ('diagnostic', 'O'), ('or', 'O'), ('therapeutic', 'O'), ('monoclonal', 'B'), ('antibodies', 'B'), ('.', 'O')] \n",
      "\n",
      "predicted entities:  ['monoclonal'] \n",
      "\n"
     ]
    }
   ],
   "source": [
    "predictions = []\n",
    "for text,entities in test_texts_entities:\n",
    "    print('original text: ', BOTagger(text = text, drugs = entities), '\\n')\n",
    "    \n",
    "    # tokenize text\n",
    "    tokens = nltk.word_tokenize(text)\n",
    "    # computing predictions\n",
    "    features = createFeatureVector(text, drugbank_db,st)\n",
    "    \n",
    "    # computing one-hot coding for 'Aa1-' feature.\n",
    "    dummies = pd.get_dummies(features['Aa1-'])\n",
    "    features = features.drop('Aa1-',axis=1)\n",
    "    # joining both data frames\n",
    "    for name in dummies.columns:\n",
    "        features[name]=dummies[name]\n",
    "    \n",
    "    # adding those columns related to Aa1- that we cannot see with the sentence in question\n",
    "    for name in training_dummies.columns:\n",
    "        if name not in dummies.columns:\n",
    "            features[name]=[0]*len(dummies[dummies.columns.values[0]])\n",
    "            \n",
    "    '''\n",
    "    # removing those columns deleted when training the classifier\n",
    "    for column in features.columns.values:\n",
    "        if column in removed_columns:\n",
    "            features = features.drop(column,axis=1)\n",
    "    '''\n",
    "    \n",
    "    predicted_tags = clf.predict(features)\n",
    "    \n",
    "    predictions.append((list(predicted_tags),entities,text)) \n",
    "    print('predicted bio tags: ',str(list(zip(tokens, predicted_tags))),'\\n')\n",
    "    pred_entities = BIOTagsToEntities(tokens = tokens, bio_tags = predicted_tags)\n",
    "    print('predicted entities: ', pred_entities, '\\n')\n",
    "    \n",
    "    # TODO: Something is wrong with the BIOTagsToEntities()\n",
    "    \n",
    "# predictions is a list of tupples comprised of predicted tags and the true drugs we should extract from there\n",
    "#print('predictions of text 1: ',predictions[1])"
   ]
  },
  {
   "cell_type": "markdown",
   "metadata": {},
   "source": [
    "Then, let's define a function that recover's the whole drug name from BIO taggs"
   ]
  },
  {
   "cell_type": "markdown",
   "metadata": {},
   "source": [
    "### Evaluation"
   ]
  },
  {
   "cell_type": "markdown",
   "metadata": {},
   "source": [
    "Evaluation will be based on $$F1=\\frac{2*precision*recall}{precision+recall}$$"
   ]
  },
  {
   "cell_type": "markdown",
   "metadata": {},
   "source": [
    "Let's recover all the words from the predicted bio_tags and try to compute F1 for each sentence"
   ]
  },
  {
   "cell_type": "code",
   "execution_count": 13,
   "metadata": {
    "collapsed": false
   },
   "outputs": [
    {
     "name": "stdout",
     "output_type": "stream",
     "text": [
      "precision:  46.22222222222222\n",
      "recall:  52.111111111111114\n",
      "F1:  48.99\n"
     ]
    }
   ],
   "source": [
    "precision = []\n",
    "recall = []\n",
    "for tags, true_entities, text in predictions:\n",
    "    # I need the tokens for the bioTagsToEntities function\n",
    "    tokens = nltk.word_tokenize(text)\n",
    "    predicted_entities = BIOTagsToEntities(tokens,tags)\n",
    "    precision = precision + [compute_precision(predicted_entities,true_entities)]\n",
    "    recall = recall + [compute_recall(predicted_entities,true_entities)]\n",
    "\n",
    "    \n",
    "avg_precision = statistics.mean(precision)\n",
    "avg_recall = statistics.mean(recall)\n",
    "print('precision: ',avg_precision)\n",
    "print('recall: ',avg_recall)\n",
    "\n",
    "# F1 metric\n",
    "F1 = round((2*avg_precision*avg_recall) / (avg_precision + avg_recall),2)\n",
    "print('F1: ', F1)"
   ]
  },
  {
   "cell_type": "code",
   "execution_count": 14,
   "metadata": {
    "collapsed": false
   },
   "outputs": [
    {
     "data": {
      "text/plain": [
       "'\\n## Log of results\\ndate, precision, recall, F1, features, test\\n14-May, 46.2, 52.1, 48.99, Token length; Prefixes/Suffixes; POS tag; Binary features (+-2); Token position; DrugBank DB; Shape, yes\\n'"
      ]
     },
     "execution_count": 14,
     "metadata": {},
     "output_type": "execute_result"
    }
   ],
   "source": [
    "'''\n",
    "## Log of results\n",
    "date, precision, recall, F1, features, test\n",
    "14-May, 46.2, 52.1, 48.99, Token length; Prefixes/Suffixes; POS tag; Binary features (+-2); Token position; DrugBank DB; Shape, yes\n",
    "'''"
   ]
  }
 ],
 "metadata": {
  "anaconda-cloud": {},
  "kernelspec": {
   "display_name": "Python [Root]",
   "language": "python",
   "name": "Python [Root]"
  },
  "language_info": {
   "codemirror_mode": {
    "name": "ipython",
    "version": 3
   },
   "file_extension": ".py",
   "mimetype": "text/x-python",
   "name": "python",
   "nbconvert_exporter": "python",
   "pygments_lexer": "ipython3",
   "version": "3.5.2"
  }
 },
 "nbformat": 4,
 "nbformat_minor": 2
}
