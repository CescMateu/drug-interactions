{
 "cells": [
  {
   "cell_type": "code",
   "execution_count": 1,
   "metadata": {
    "collapsed": false
   },
   "outputs": [
    {
     "name": "stderr",
     "output_type": "stream",
     "text": [
      "/Users/cesc/Anaconda3/anaconda/lib/python3.5/site-packages/sklearn/cross_validation.py:41: DeprecationWarning: This module was deprecated in version 0.18 in favor of the model_selection module into which all the refactored classes and functions are moved. Also note that the interface of the new CV iterators are different from that of this module. This module will be removed in 0.20.\n",
      "  \"This module will be removed in 0.20.\", DeprecationWarning)\n",
      "/Users/cesc/Anaconda3/anaconda/lib/python3.5/site-packages/sklearn/grid_search.py:42: DeprecationWarning: This module was deprecated in version 0.18 in favor of the model_selection module into which all the refactored classes and functions are moved. This module will be removed in 0.20.\n",
      "  DeprecationWarning)\n"
     ]
    }
   ],
   "source": [
    "# Data processing libraries\n",
    "import pandas as pd\n",
    "import numpy as np\n",
    "\n",
    "# NLP libraries\n",
    "import nltk\n",
    "from nltk.tag import StanfordPOSTagger\n",
    "\n",
    "# Machine Learning Libraries\n",
    "import sklearn\n",
    "import scipy.stats\n",
    "from sklearn.metrics import make_scorer\n",
    "from sklearn.model_selection import train_test_split # Parameter selection\n",
    "import sklearn_crfsuite\n",
    "from sklearn_crfsuite import scorers, metrics\n",
    "from sklearn.cross_validation import cross_val_score\n",
    "from sklearn.grid_search import RandomizedSearchCV\n",
    "\n",
    "# Other libraries\n",
    "import time # Execution time of some blocks\n",
    "import statistics\n",
    "from IPython.display import display # For displaying DataFrames correctly in Jupyter\n",
    "from itertools import chain\n",
    "import collections\n",
    "import pickle\n",
    "\n",
    "# Import our own defined functions\n",
    "from xlm_parsers_functions import *\n",
    "from drug_interaction_functions import *\n",
    "from drug_functions import *\n",
    "from NER_functions import *\n",
    "from ortographic_features import *\n",
    "from context_features import *\n",
    "from feature_creation_interaction import *\n",
    "from crf_functions import *"
   ]
  },
  {
   "cell_type": "code",
   "execution_count": 2,
   "metadata": {
    "collapsed": false
   },
   "outputs": [
    {
     "name": "stdout",
     "output_type": "stream",
     "text": [
      "Number of training sentences readed:  27792\n",
      "Number of testing sentences readed:  5716\n",
      "CPU times: user 1.95 s, sys: 342 ms, total: 2.29 s\n",
      "Wall time: 2.37 s\n"
     ]
    }
   ],
   "source": [
    "%%time\n",
    "\n",
    "with open(\"X_train.txt\", \"rb\") as f:   # Unpickling\n",
    "    X_train = pickle.load(f)\n",
    "    \n",
    "with open(\"y_train_int.txt\", \"rb\") as f:   # Unpickling\n",
    "    y_train_int = pickle.load(f)\n",
    "    \n",
    "with open(\"y_train_type.txt\", \"rb\") as f:   # Unpickling\n",
    "    y_train_type = pickle.load(f)\n",
    "\n",
    "with open(\"X_test.txt\", \"rb\") as f:   # Unpickling\n",
    "    X_test = pickle.load(f)\n",
    "    \n",
    "with open(\"y_test_int.txt\", \"rb\") as f:   # Unpickling\n",
    "    y_test_int = pickle.load(f)\n",
    "    \n",
    "with open(\"y_test_type.txt\", \"rb\") as f:   # Unpickling\n",
    "    y_test_type = pickle.load(f)\n",
    "\n",
    "print('Number of training sentences readed: ', len(X_train))\n",
    "print('Number of testing sentences readed: ', len(X_test))"
   ]
  },
  {
   "cell_type": "code",
   "execution_count": 3,
   "metadata": {
    "collapsed": false
   },
   "outputs": [
    {
     "name": "stdout",
     "output_type": "stream",
     "text": [
      "             precision    recall  f1-score   support\n",
      "\n",
      "       true      0.507     0.531     0.519       979\n",
      "      false      0.902     0.893     0.898      4737\n",
      "\n",
      "avg / total      0.835     0.831     0.833      5716\n",
      "\n",
      "CPU times: user 27.1 s, sys: 189 ms, total: 27.3 s\n",
      "Wall time: 27.4 s\n"
     ]
    }
   ],
   "source": [
    "%%time\n",
    "\n",
    "mod1 = trainCRFAndEvaluate(\n",
    "            X_train = X_train, \n",
    "            y_train = y_train_int,\n",
    "            X_test = X_test,\n",
    "            y_test = y_test_int,\n",
    "            labels = ['true', 'false'],\n",
    "            hyperparam_optim = False)"
   ]
  },
  {
   "cell_type": "code",
   "execution_count": 4,
   "metadata": {
    "collapsed": true
   },
   "outputs": [],
   "source": [
    "y_pred_int = mod1.predict(X_test)"
   ]
  },
  {
   "cell_type": "code",
   "execution_count": 5,
   "metadata": {
    "collapsed": true
   },
   "outputs": [],
   "source": [
    "createNewFeatureFromVector(\n",
    "    X = X_train,\n",
    "    new_feature_vector = y_train_int,\n",
    "    new_feature_name = 'is_there_interaction')\n",
    "\n",
    "createNewFeatureFromVector(\n",
    "    X = X_test,\n",
    "    new_feature_vector = y_pred_int,\n",
    "    new_feature_name = 'is_there_interaction')"
   ]
  },
  {
   "cell_type": "code",
   "execution_count": 6,
   "metadata": {
    "collapsed": false
   },
   "outputs": [
    {
     "name": "stdout",
     "output_type": "stream",
     "text": [
      "             precision    recall  f1-score   support\n",
      "\n",
      "  mechanism      0.398     0.437     0.416       302\n",
      "        int      0.577     0.156     0.246        96\n",
      "     advise      0.406     0.421     0.413       221\n",
      "     effect      0.417     0.456     0.436       360\n",
      "\n",
      "avg / total      0.424     0.413     0.406       979\n",
      "\n",
      "CPU times: user 39.5 s, sys: 138 ms, total: 39.7 s\n",
      "Wall time: 39.7 s\n"
     ]
    }
   ],
   "source": [
    "%%time\n",
    "\n",
    "mod2 = trainCRFAndEvaluate(\n",
    "            X_train = X_train, \n",
    "            y_train = y_train_type,\n",
    "            X_test = X_test,\n",
    "            y_test = y_test_type,\n",
    "            labels = ['mechanism', 'int', 'advise', 'effect'],\n",
    "            hyperparam_optim = False)"
   ]
  },
  {
   "cell_type": "code",
   "execution_count": 8,
   "metadata": {
    "collapsed": false
   },
   "outputs": [
    {
     "name": "stdout",
     "output_type": "stream",
     "text": [
      "Top positive:\n",
      "9.918947 none     is_there_interaction:false\n",
      "4.048308 advise   first_modal_sentence:should\n",
      "1.490504 int      POS_tags_sentence_simpl:NN-IN-NN-CC-NN-IN-NN-.\n",
      "1.479522 mechanism POS_tags_sentence_simpl:JJ-NN-MD-VB-DT-JJ-NN-IN-JJ-NN-,-NN-,-NN-CC-NN-,-IN-VB-PR-NN-IN-DT-NN-.\n",
      "1.442210 advise   ent1_pos_tag_prev_word3:TO\n",
      "1.403773 advise   POS_tags_sentence_simpl:IN-NN-VB-DT-JJ-NN-IN-NN-,-CC-NN-VB-NN-IN-RB-,-JJ-NN-IN-DT-NN-,-VB-NN-,-CC-NN-VB-JJ-NN-IN-NN-TO-VB-JJ-IN-DT-NN-IN-PR-JJ-NN-VB-.\n",
      "1.396110 effect   POS_tags_sentence_simpl:NN-:-NN-MD-VB-IN-NN-.\n",
      "1.384008 effect   3_grams_bw_entities:N a\n",
      "1.361293 effect   2_grams_bw_entities:- \n",
      "1.342038 int      POS_tags_sentence_simpl:VB-IN-JJ-NN-,-EX-MD-VB-DT-NN-IN-NN-CC-NN-.\n",
      "1.264539 advise   sentence_contains_neg\n",
      "1.170500 effect   3_grams_bw_entities:rel\n",
      "1.165166 effect   POS_tags_sentence_simpl:RB-,-DT-NN-IN-NN-IN-NN-,-JJ-NN-CC-NN-VB-JJ\n",
      "1.155956 effect   POS_tags_sentence_simpl:NN-VB-IN-JJ-NN-VB-DT-NN-IN-NN-,-VB-IN-VB-NN-IN-NN-CC-PR-JJ-NN-WD-MD-VB-NN-.\n",
      "1.145018 mechanism 3_grams_bw_entities:y f\n",
      "\n",
      "Top negative:\n",
      "-1.056425 advise   ent2_pos_tag_following_word2:DT\n",
      "-1.073094 effect   3_grams_bw_entities:ire\n",
      "-1.087676 advise   first_modal_sentence:none\n",
      "-1.093794 mechanism ent1_pos_tag_following_word3:.\n",
      "-1.106143 effect   3_grams_bw_entities:c ,\n",
      "-1.112985 advise   sent_contains_but\n",
      "-1.228159 mechanism 3_grams_bw_entities:omo\n",
      "-1.255824 effect   ent2_word[-5:]:azole\n",
      "-1.261503 mechanism ent1_pos_tag_prev_word3:VB\n",
      "-1.275634 mechanism 3_grams_bw_entities:atr\n",
      "-1.527632 mechanism 3_grams_bw_entities:oid\n",
      "-1.569065 effect   first_modal_sentence:should\n",
      "-1.631055 advise   first_modal_sentence:may\n",
      "-1.791748 mechanism first_modal_sentence:should\n",
      "-7.153736 none     is_there_interaction:true\n"
     ]
    }
   ],
   "source": [
    "import collections\n",
    "\n",
    "def print_state_features(state_features):\n",
    "    for (attr, label), weight in state_features:\n",
    "        print(\"%0.6f %-8s %s\" % (weight, label, attr))\n",
    "\n",
    "print(\"Top positive:\")\n",
    "print_state_features(collections.Counter(mod2.state_features_).most_common(15))\n",
    "\n",
    "print(\"\\nTop negative:\")\n",
    "print_state_features(collections.Counter(mod2.state_features_).most_common()[-15:])\n",
    "\n"
   ]
  },
  {
   "cell_type": "code",
   "execution_count": null,
   "metadata": {
    "collapsed": true
   },
   "outputs": [],
   "source": []
  }
 ],
 "metadata": {
  "anaconda-cloud": {},
  "kernelspec": {
   "display_name": "Python [Root]",
   "language": "python",
   "name": "Python [Root]"
  },
  "language_info": {
   "codemirror_mode": {
    "name": "ipython",
    "version": 3
   },
   "file_extension": ".py",
   "mimetype": "text/x-python",
   "name": "python",
   "nbconvert_exporter": "python",
   "pygments_lexer": "ipython3",
   "version": "3.5.2"
  }
 },
 "nbformat": 4,
 "nbformat_minor": 0
}
