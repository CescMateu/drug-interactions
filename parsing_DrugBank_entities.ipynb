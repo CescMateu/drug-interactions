{
 "cells": [
  {
   "cell_type": "code",
   "execution_count": 34,
   "metadata": {
    "collapsed": false
   },
   "outputs": [],
   "source": [
    "import nltk\n",
    "from nltk.corpus import stopwords\n",
    "import xml.etree.ElementTree as ET # ElementTree Library\n"
   ]
  },
  {
   "cell_type": "code",
   "execution_count": 23,
   "metadata": {
    "collapsed": false
   },
   "outputs": [],
   "source": [
    "tree = ET.parse('/Users/cesc/Downloads/DrugBank_database.xml')"
   ]
  },
  {
   "cell_type": "code",
   "execution_count": 47,
   "metadata": {
    "collapsed": false
   },
   "outputs": [
    {
     "ename": "AttributeError",
     "evalue": "'NoneType' object has no attribute 'text'",
     "output_type": "error",
     "traceback": [
      "\u001b[0;31m---------------------------------------------------------------------------\u001b[0m",
      "\u001b[0;31mAttributeError\u001b[0m                            Traceback (most recent call last)",
      "\u001b[0;32m<ipython-input-47-a6b52d21f28b>\u001b[0m in \u001b[0;36m<module>\u001b[0;34m()\u001b[0m\n\u001b[1;32m      5\u001b[0m \u001b[0;32mfor\u001b[0m \u001b[0mdrug\u001b[0m \u001b[0;32min\u001b[0m \u001b[0mroot\u001b[0m\u001b[0;34m:\u001b[0m\u001b[0;34m\u001b[0m\u001b[0m\n\u001b[1;32m      6\u001b[0m     \u001b[0;32mif\u001b[0m \u001b[0mdrug\u001b[0m\u001b[0;34m.\u001b[0m\u001b[0mtag\u001b[0m \u001b[0;34m==\u001b[0m \u001b[0;34m'{http://www.drugbank.ca}drug'\u001b[0m\u001b[0;34m:\u001b[0m\u001b[0;34m\u001b[0m\u001b[0m\n\u001b[0;32m----> 7\u001b[0;31m         \u001b[0mdrug_name\u001b[0m \u001b[0;34m=\u001b[0m \u001b[0mdrug\u001b[0m\u001b[0;34m.\u001b[0m\u001b[0mfind\u001b[0m\u001b[0;34m(\u001b[0m\u001b[0;34m'name'\u001b[0m\u001b[0;34m)\u001b[0m\u001b[0;34m.\u001b[0m\u001b[0mtext\u001b[0m\u001b[0;34m\u001b[0m\u001b[0m\n\u001b[0m\u001b[1;32m      8\u001b[0m         \u001b[0msynonims\u001b[0m \u001b[0;34m=\u001b[0m \u001b[0mdrug\u001b[0m\u001b[0;34m.\u001b[0m\u001b[0mfind\u001b[0m\u001b[0;34m(\u001b[0m\u001b[0;34m'synonims'\u001b[0m\u001b[0;34m)\u001b[0m\u001b[0;34m.\u001b[0m\u001b[0mtext\u001b[0m\u001b[0;34m\u001b[0m\u001b[0m\n\u001b[1;32m      9\u001b[0m         \u001b[0mprint\u001b[0m\u001b[0;34m(\u001b[0m\u001b[0;34m'hola'\u001b[0m\u001b[0;34m)\u001b[0m\u001b[0;34m\u001b[0m\u001b[0m\n",
      "\u001b[0;31mAttributeError\u001b[0m: 'NoneType' object has no attribute 'text'"
     ]
    }
   ],
   "source": [
    "root = tree.getroot()\n",
    "#for i in root:\n",
    "#    print(i.tag)\n",
    "\n",
    "for drug in root:    \n",
    "    if drug.tag == '{http://www.drugbank.ca}drug':\n",
    "        drug_name = drug.find('name').text\n",
    "        synonims = drug.find('synonims').text\n",
    "        print('hola')\n",
    "        print(drug_name, synonims)\n"
   ]
  },
  {
   "cell_type": "code",
   "execution_count": null,
   "metadata": {
    "collapsed": true
   },
   "outputs": [],
   "source": [
    "with(open('data/DrugBank_names_DB.txt', 'r')) as f:\n",
    "    drugbank_db = f.read().splitlines()"
   ]
  },
  {
   "cell_type": "code",
   "execution_count": 18,
   "metadata": {
    "collapsed": false
   },
   "outputs": [],
   "source": [
    "# Set of common words that we don't want to include\n",
    "common_words = set(stopwords.words('english'))\n",
    "\n",
    "drugbank_db_mod = []\n",
    "for entity in drugbank_db:\n",
    "    tokens = nltk.word_tokenize(entity)\n",
    "    for token in tokens:\n",
    "        drugbank_db_mod.append(token)\n",
    "        \n",
    "drugbank_db_mod2 = []\n",
    "for token in drugbank_db_mod:\n",
    "    if '-' in token:\n",
    "        split_tokens = token.split('-')\n",
    "        for token in split_tokens:\n",
    "            drugbank_db_mod2.append(token)\n",
    "    else:\n",
    "        drugbank_db_mod2.append(token)\n",
    "\n",
    "        \n",
    "drugbank_db_mod3 = []\n",
    "for token in drugbank_db_mod2:\n",
    "    if len(token) > 3 and not token.isnumeric() and token not in drugbank_db_mod3 and token not in common_words:\n",
    "        drugbank_db_mod3.append(token)"
   ]
  },
  {
   "cell_type": "code",
   "execution_count": 19,
   "metadata": {
    "collapsed": true
   },
   "outputs": [],
   "source": [
    "with(open('data/DrugBank_names_DB2.txt', 'w')) as f:\n",
    "    for entity in drugbank_db_mod3:\n",
    "        f.write(entity + '\\n')    "
   ]
  },
  {
   "cell_type": "code",
   "execution_count": 20,
   "metadata": {
    "collapsed": false
   },
   "outputs": [
    {
     "name": "stdout",
     "output_type": "stream",
     "text": [
      "Ibuprofeno Ibuprofen\n",
      "like like\n"
     ]
    }
   ],
   "source": [
    "sentence = 'Hello my name is Ibuprofeno and I like to take Aspirins from now and then Fluimucil and almax'\n",
    "tokenized_sentence = nltk.word_tokenize(sentence)\n",
    "\n",
    "for token in tokenized_sentence:\n",
    "    for drug in drugbank_db_mod3:\n",
    "        if drug in token:\n",
    "            print(token, drug)"
   ]
  },
  {
   "cell_type": "code",
   "execution_count": null,
   "metadata": {
    "collapsed": true
   },
   "outputs": [],
   "source": []
  }
 ],
 "metadata": {
  "anaconda-cloud": {},
  "kernelspec": {
   "display_name": "Python [Root]",
   "language": "python",
   "name": "Python [Root]"
  },
  "language_info": {
   "codemirror_mode": {
    "name": "ipython",
    "version": 3
   },
   "file_extension": ".py",
   "mimetype": "text/x-python",
   "name": "python",
   "nbconvert_exporter": "python",
   "pygments_lexer": "ipython3",
   "version": "3.5.2"
  }
 },
 "nbformat": 4,
 "nbformat_minor": 0
}
