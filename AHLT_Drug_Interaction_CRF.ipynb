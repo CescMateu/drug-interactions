{
 "cells": [
  {
   "cell_type": "code",
   "execution_count": 1,
   "metadata": {
    "collapsed": true
   },
   "outputs": [],
   "source": [
    "%matplotlib inline\n",
    "import matplotlib.pyplot as plt\n",
    "plt.style.use('ggplot')"
   ]
  },
  {
   "cell_type": "markdown",
   "metadata": {},
   "source": [
    "## Module importing"
   ]
  },
  {
   "cell_type": "code",
   "execution_count": 2,
   "metadata": {
    "collapsed": false
   },
   "outputs": [
    {
     "name": "stderr",
     "output_type": "stream",
     "text": [
      "/Users/cesc/Anaconda3/anaconda/lib/python3.5/site-packages/sklearn/cross_validation.py:41: DeprecationWarning: This module was deprecated in version 0.18 in favor of the model_selection module into which all the refactored classes and functions are moved. Also note that the interface of the new CV iterators are different from that of this module. This module will be removed in 0.20.\n",
      "  \"This module will be removed in 0.20.\", DeprecationWarning)\n",
      "/Users/cesc/Anaconda3/anaconda/lib/python3.5/site-packages/sklearn/grid_search.py:42: DeprecationWarning: This module was deprecated in version 0.18 in favor of the model_selection module into which all the refactored classes and functions are moved. This module will be removed in 0.20.\n",
      "  DeprecationWarning)\n"
     ]
    }
   ],
   "source": [
    "# Data processing libraries\n",
    "import pandas as pd\n",
    "import numpy as np\n",
    "\n",
    "# NLP libraries\n",
    "import nltk\n",
    "from nltk.tag import StanfordPOSTagger\n",
    "\n",
    "# Machine Learning Libraries\n",
    "import sklearn\n",
    "import scipy.stats\n",
    "from sklearn.metrics import make_scorer\n",
    "from sklearn.model_selection import train_test_split # Parameter selection\n",
    "import sklearn_crfsuite\n",
    "from sklearn_crfsuite import scorers, metrics\n",
    "from sklearn.cross_validation import cross_val_score\n",
    "from sklearn.grid_search import RandomizedSearchCV\n",
    "\n",
    "# Other libraries\n",
    "import time # Execution time of some blocks\n",
    "import statistics\n",
    "from IPython.display import display # For displaying DataFrames correctly in Jupyter\n",
    "from itertools import chain\n",
    "import collections\n",
    "\n",
    "# Import our own defined functions\n",
    "from xlm_parsers_functions import *\n",
    "from drug_interaction_functions import *\n",
    "from drug_functions import *\n",
    "from NER_functions import *"
   ]
  },
  {
   "cell_type": "markdown",
   "metadata": {},
   "source": [
    "## Reading the XML data"
   ]
  },
  {
   "cell_type": "code",
   "execution_count": 3,
   "metadata": {
    "collapsed": false
   },
   "outputs": [],
   "source": [
    "data_dir1 = 'data/Train/DrugBank/'\n",
    "data_dir2 = 'data/Train/MedLine/'\n",
    "\n",
    "def readXMLData(data_dir):\n",
    "\n",
    "    # Use xlm_element.tag to get the name of the xlm element\n",
    "    # Use xlm_element.attrib to get all the attributes of the xlm element as a string\n",
    "\n",
    "    # Parse the DrugBank Files\n",
    "    drugs_dataset = []\n",
    "    #parent_directory = '../LaboCase/small_train_DrugBank/'\n",
    "    for filename in os.listdir(data_dir):\n",
    "        if filename.endswith(\".xml\"):\n",
    "            # Parse the file\n",
    "            tree = ET.parse(data_dir + filename)\n",
    "            # Create a list of lists with the interactions of the file\n",
    "            drugs_dataset = drugs_dataset + listDDIFromXML(tree.getroot())\n",
    "\n",
    "    return(drugs_dataset)\n",
    "\n",
    "# Create a list of lists with the interactions of the file\n",
    "XMLdata_DrugBank = readXMLData(data_dir1)\n",
    "XMLdata_MedLine = readXMLData(data_dir2)\n",
    "\n",
    "XMLdata = XMLdata_DrugBank + XMLdata_MedLine"
   ]
  },
  {
   "cell_type": "markdown",
   "metadata": {},
   "source": [
    "## Feature creation"
   ]
  },
  {
   "cell_type": "code",
   "execution_count": 4,
   "metadata": {
    "collapsed": false
   },
   "outputs": [],
   "source": [
    "with(open('data/DrugBank_names_DB.txt', 'r')) as f:\n",
    "    drugbank_db = f.read().splitlines()\n",
    "    \n",
    "def sent2features(tupl, i, database):\n",
    "    \n",
    "    if len(tupl) != 5:\n",
    "        raise ValueError('The introduced tuple does not have the correct length')\n",
    "    sent = tupl[0]\n",
    "    ent1 = tupl[1]\n",
    "    ent2 = tupl[2]\n",
    "    ent_list = tupl[3]\n",
    "    \n",
    "    features = {\n",
    "        \n",
    "    'ent1': ent1,\n",
    "    'ent2': ent2,\n",
    "    # Orthographic features\n",
    "        \n",
    "    # Entity 1\n",
    "    'ent1_all_uppercase_letters' : allCaps(ent1), \n",
    "    'ent1_initial_capital_letter': initCap(ent1), \n",
    "    'ent1_contains_capital_letter' : hasCap(ent1),\n",
    "    'ent1_single_capital_letter' : singleCap(ent1),\n",
    "    'ent1_punctuation' : punctuation(ent1),\n",
    "    'ent1_initial_digit' : initDigit(ent1),\n",
    "    'ent1_single_digit' : singleDigit(ent1),\n",
    "    'ent1_letter_and_num' : alphaNum(ent1),\n",
    "    'ent1_many_numbers' : manyNum(ent1),\n",
    "    'ent1_contains_real_numbers' : realNum(ent1),\n",
    "    'ent1_intermediate_dash' : inDash(ent1),\n",
    "    'ent1_has_digit' : hasDigit(ent1),\n",
    "    'ent1_is_Dash' : isDash(ent1),\n",
    "    'ent1_is_roman_letter' : roman(ent1),\n",
    "    'ent1_is_end_punctuation' : endPunctuation(ent1),\n",
    "    'ent1_caps_mix' : capsMix(ent1),\n",
    "\n",
    "    # Entity 2\n",
    "    'ent2_all_uppercase_letters' : allCaps(ent2), \n",
    "    'ent2_initial_capital_letter': initCap(ent2), \n",
    "    'ent2_contains_capital_letter' : hasCap(ent2),\n",
    "    'ent2_single_capital_letter' : singleCap(ent2),\n",
    "    'ent2_punctuation' : punctuation(ent2),\n",
    "    'ent2_initial_digit' : initDigit(ent2),\n",
    "    'ent2_single_digit' : singleDigit(ent2),\n",
    "    'ent2_letter_and_num' : alphaNum(ent2),\n",
    "    'ent2_many_numbers' : manyNum(ent2),\n",
    "    'ent2_contains_real_numbers' : realNum(ent2),\n",
    "    'ent2_intermediate_dash' : inDash(ent2),\n",
    "    'ent2_has_digit' : hasDigit(ent2),\n",
    "    'ent2_is_Dash' : isDash(ent2),\n",
    "    'ent2_is_roman_letter' : roman(ent2),\n",
    "    'ent2_is_end_punctuation' : endPunctuation(ent2),\n",
    "    'ent2_caps_mix' : capsMix(ent2),\n",
    "        \n",
    "    # Morphological information: prefixes/suffixes of lengths from 2 to 5 and word shapes of tokens. \n",
    "    # Entity 1\n",
    "    'ent1_word[-5:]': ent1[-5:],\n",
    "    'ent1_word[-4:]': ent1[-4:],\n",
    "    'ent1_word[-3:]': ent1[-3:],\n",
    "    'ent1_word[-2:]': ent1[-2:],\n",
    "\n",
    "    # Entity 2\n",
    "    'ent2_word[-5:]': ent2[-5:],\n",
    "    'ent2_word[-4:]': ent2[-4:],\n",
    "    'ent2_word[-3:]': ent2[-3:],\n",
    "    'ent2_word[-2:]': ent2[-2:],\n",
    "    \n",
    "    # Domain knowledge\n",
    "    # Entity 1\n",
    "    'ent1_contains_drug_sufix': containsSufix(ent1),\n",
    "    'ent1_contains_drug_prefix': containsPrefix(ent1),\n",
    "\n",
    "    # Entity 2\n",
    "    'ent2_contains_drug_sufix': containsSufix(ent2),\n",
    "    'ent2_contains_drug_prefix': containsPrefix(ent2),\n",
    "        \n",
    "    # Is in DrugBank dataset\n",
    "    'ent1_isInDB':isTokenInDB(ent1,database),\n",
    "    'ent2_isInDB':isTokenInDB(ent2,database)\n",
    "    }\n",
    "\n",
    "    return features\n",
    "\n",
    "\n",
    "def text2features(text,database):\n",
    "    for i in range(len(text)):\n",
    "        return(sent2features(text, i, drugbank_db))\n",
    "\n",
    "def text2labels(text):\n",
    "    return text[4]"
   ]
  },
  {
   "cell_type": "code",
   "execution_count": 5,
   "metadata": {
    "collapsed": false
   },
   "outputs": [
    {
     "name": "stdout",
     "output_type": "stream",
     "text": [
      "CPU times: user 7.95 s, sys: 115 ms, total: 8.06 s\n",
      "Wall time: 8.17 s\n"
     ]
    }
   ],
   "source": [
    "%%time\n",
    "X = [[text2features(s, drugbank_db)] for s in XMLdata]\n",
    "y = [[text2labels(s)] for s in XMLdata]"
   ]
  },
  {
   "cell_type": "markdown",
   "metadata": {},
   "source": [
    "## Train/Test/Validation split\n",
    "\n",
    "For this project, we will split the original dataset in the following proportions:\n",
    " - Training data: 42%\n",
    " - Testing data: 40%\n",
    " - Validation data: 18%"
   ]
  },
  {
   "cell_type": "code",
   "execution_count": 6,
   "metadata": {
    "collapsed": false
   },
   "outputs": [
    {
     "name": "stdout",
     "output_type": "stream",
     "text": [
      "Number of training sentences:  11672\n",
      "Number of testing sentences:  11117\n"
     ]
    }
   ],
   "source": [
    "seed = 16273\n",
    "X_train, X_test, y_train, y_test = train_test_split(X, y, test_size=0.4, random_state=seed, shuffle = True)\n",
    "X_train, X_val, y_train, y_val = train_test_split(X_train, y_train, test_size=0.3, random_state=seed, shuffle = True)\n",
    "print('Number of training sentences: ', len(X_train))\n",
    "print('Number of testing sentences: ', len(X_test))"
   ]
  },
  {
   "cell_type": "markdown",
   "metadata": {},
   "source": [
    "## Hyperparameter Optimization\n",
    "\n",
    "\n",
    "Using validation data"
   ]
  },
  {
   "cell_type": "code",
   "execution_count": 7,
   "metadata": {
    "collapsed": false
   },
   "outputs": [
    {
     "name": "stdout",
     "output_type": "stream",
     "text": [
      "Fitting 3 folds for each of 20 candidates, totalling 60 fits\n"
     ]
    },
    {
     "name": "stderr",
     "output_type": "stream",
     "text": [
      "[Parallel(n_jobs=-1)]: Done  42 tasks      | elapsed:   17.8s\n",
      "[Parallel(n_jobs=-1)]: Done  60 out of  60 | elapsed:   24.4s finished\n"
     ]
    },
    {
     "name": "stdout",
     "output_type": "stream",
     "text": [
      "CPU times: user 4.29 s, sys: 208 ms, total: 4.5 s\n",
      "Wall time: 25.7 s\n"
     ]
    }
   ],
   "source": [
    "%%time\n",
    "# We don't want to include the 'none' label for the optimization\n",
    "labels = ['mechanism', 'effect', 'int', 'advise']\n",
    "\n",
    "# Define fixed parameters and parameters to search\n",
    "crf = sklearn_crfsuite.CRF(\n",
    "    algorithm='lbfgs',\n",
    "    max_iterations=100,\n",
    "    all_possible_transitions=True\n",
    ")\n",
    "params_space = {\n",
    "    'c1': scipy.stats.expon(scale=0.5),\n",
    "    'c2': scipy.stats.expon(scale=0.05),\n",
    "}\n",
    "\n",
    "# use the same metric for evaluation\n",
    "f1_scorer = make_scorer(metrics.flat_f1_score,\n",
    "                        average='weighted', labels=labels)\n",
    "\n",
    "# search\n",
    "rs = RandomizedSearchCV(crf, params_space,\n",
    "                        cv=3,\n",
    "                        verbose=1,\n",
    "                        n_jobs=-1,\n",
    "                        n_iter=20,\n",
    "                        scoring=f1_scorer)\n",
    "rs.fit(X_val, y_val)"
   ]
  },
  {
   "cell_type": "code",
   "execution_count": 8,
   "metadata": {
    "collapsed": false
   },
   "outputs": [
    {
     "name": "stdout",
     "output_type": "stream",
     "text": [
      "best params: {'c1': 0.16186864078444804, 'c2': 0.021301324566858997}\n",
      "best CV score: 0.23612682199497317\n",
      "model size: 0.26M\n"
     ]
    }
   ],
   "source": [
    "# crf = rs.best_estimator_\n",
    "print('best params:', rs.best_params_)\n",
    "print('best CV score:', rs.best_score_)\n",
    "print('model size: {:0.2f}M'.format(rs.best_estimator_.size_ / 1000000))"
   ]
  },
  {
   "cell_type": "code",
   "execution_count": 9,
   "metadata": {
    "collapsed": false
   },
   "outputs": [
    {
     "name": "stdout",
     "output_type": "stream",
     "text": [
      "Dark blue => 0.1161, dark red => 0.2361\n"
     ]
    },
    {
     "data": {
      "image/png": "[encoded data removed]",
      "text/plain": [
       "<matplotlib.figure.Figure at 0x1263ec630>"
      ]
     },
     "metadata": {},
     "output_type": "display_data"
    }
   ],
   "source": [
    "_x = [s.parameters['c1'] for s in rs.grid_scores_]\n",
    "_y = [s.parameters['c2'] for s in rs.grid_scores_]\n",
    "_c = [s.mean_validation_score for s in rs.grid_scores_]\n",
    "\n",
    "fig = plt.figure()\n",
    "fig.set_size_inches(12, 12)\n",
    "ax = plt.gca()\n",
    "ax.set_yscale('log')\n",
    "ax.set_xscale('log')\n",
    "ax.set_xlabel('C1')\n",
    "ax.set_ylabel('C2')\n",
    "ax.set_title(\"Randomized Hyperparameter Search CV Results (min={:0.3}, max={:0.3})\".format(\n",
    "    min(_c), max(_c)\n",
    "))\n",
    "\n",
    "ax.scatter(_x, _y, c=_c, s=60, alpha=0.9, edgecolors=[0,0,0])\n",
    "\n",
    "print(\"Dark blue => {:0.4}, dark red => {:0.4}\".format(min(_c), max(_c)))"
   ]
  },
  {
   "cell_type": "markdown",
   "metadata": {},
   "source": [
    "## Model training\n",
    "Using training data and the parameters obtained in the previous step"
   ]
  },
  {
   "cell_type": "code",
   "execution_count": 10,
   "metadata": {
    "collapsed": false
   },
   "outputs": [
    {
     "name": "stdout",
     "output_type": "stream",
     "text": [
      "CPU times: user 2.46 s, sys: 42.3 ms, total: 2.5 s\n",
      "Wall time: 2.5 s\n"
     ]
    }
   ],
   "source": [
    "%%time\n",
    "crf = sklearn_crfsuite.CRF(\n",
    "    algorithm='lbfgs',\n",
    "    c1=rs.best_params_['c1'],\n",
    "    c2=rs.best_params_['c2'],\n",
    "    max_iterations=100,\n",
    "    all_possible_transitions=True\n",
    ")\n",
    "\n",
    "crf.fit(X_train, y_train)"
   ]
  },
  {
   "cell_type": "markdown",
   "metadata": {},
   "source": [
    "## Evaluation\n",
    "\n",
    "Using test data"
   ]
  },
  {
   "cell_type": "code",
   "execution_count": 11,
   "metadata": {
    "collapsed": false
   },
   "outputs": [],
   "source": [
    "y_pred = crf.predict(X_test)"
   ]
  },
  {
   "cell_type": "code",
   "execution_count": 12,
   "metadata": {
    "collapsed": false
   },
   "outputs": [
    {
     "name": "stdout",
     "output_type": "stream",
     "text": [
      "y_test index: 3428\n"
     ]
    }
   ],
   "source": [
    "for i in range(len(y_pred)):\n",
    "    if y_pred[i][0] is None:\n",
    "        print('y_pred index: ', i)\n",
    "        y_pred[i][0] = 'none'\n",
    "    \n",
    "    if y_test[i][0] is None:\n",
    "        print('y_test index:' , i)\n",
    "        y_test[i][0] = 'none'"
   ]
  },
  {
   "cell_type": "code",
   "execution_count": 13,
   "metadata": {
    "collapsed": false
   },
   "outputs": [
    {
     "name": "stdout",
     "output_type": "stream",
     "text": [
      "0.323934837093\n",
      "             precision    recall  f1-score   support\n",
      "\n",
      "  mechanism      0.503     0.279     0.359       537\n",
      "     effect      0.553     0.382     0.452       646\n",
      "        int      0.737     0.512     0.604        82\n",
      "     advise      0.494     0.236     0.319       331\n",
      "\n",
      "avg / total      0.533     0.324     0.401      1596\n",
      "\n"
     ]
    }
   ],
   "source": [
    "print(sklearn.metrics.recall_score(y_true = y_test, \n",
    "                             y_pred = y_pred, \n",
    "                             labels=labels, \n",
    "                             pos_label=1, \n",
    "                             average='weighted',\n",
    "                             sample_weight=None)\n",
    "      )\n",
    "\n",
    "print(metrics.flat_classification_report(\n",
    "    y_test, y_pred, labels=labels, digits=3\n",
    "))"
   ]
  },
  {
   "cell_type": "code",
   "execution_count": 14,
   "metadata": {
    "collapsed": false
   },
   "outputs": [
    {
     "name": "stdout",
     "output_type": "stream",
     "text": [
      "Top positive:\n",
      "7.023777 effect   ent2:Mefloquine\n",
      "6.952814 effect   ent1:nondepolarizing agents\n",
      "6.926544 effect   ent1:Folic acid\n",
      "6.761575 effect   ent2:Meclofenamate sodium\n",
      "6.757512 mechanism ent1:Bile acid binding resins\n",
      "6.496515 effect   ent2:5-HT1 agonists\n",
      "6.316003 advise   ent1:anileridine\n",
      "6.231492 mechanism ent1:levothyroxine sodium\n",
      "6.174144 advise   ent1:HMG-CoA reductase inhibitor\n",
      "6.129222 advise   ent1:MAO-inhibitors\n",
      "6.090871 advise   ent1:Azlocillin\n",
      "5.857037 mechanism ent2:combination hormonal contraceptives\n",
      "5.841964 int      ent1:Etonogestrel\n",
      "5.680914 advise   ent1:cinoxacin\n",
      "5.675120 effect   ent1:Diuretic agents\n",
      "\n",
      "Top negative:\n",
      "-2.632113 none     ent2:heparin sodium\n",
      "-2.710721 none     ent1:piperazine\n",
      "-2.754610 none     ent1:retinoids\n",
      "-2.948144 none     ent1:Barbiturates\n",
      "-2.970497 none     ent1:butorphanol\n",
      "-3.155482 none     ent1:EQUETROTM\n",
      "-3.171576 none     ent2:hypoglycemic agents\n",
      "-3.186105 none     ent1:Aminoglutethimide\n",
      "-3.230639 none     ent1:Corticotropin\n",
      "-3.247165 none     ent1:bromocriptine mesylate\n",
      "-3.394911 none     ent1:hormonal contraceptives\n",
      "-3.482454 none     ent1:Itraconazole\n",
      "-3.634392 none     ent2:Ibandronate\n",
      "-3.773190 none     ent2:hydralazine\n",
      "-4.016550 none     ent1:proton pump inhibitors\n"
     ]
    }
   ],
   "source": [
    "def print_state_features(state_features):\n",
    "    for (attr, label), weight in state_features:\n",
    "        print(\"%0.6f %-8s %s\" % (weight, label, attr))\n",
    "\n",
    "print(\"Top positive:\")\n",
    "print_state_features(collections.Counter(crf.state_features_).most_common(15))\n",
    "\n",
    "print(\"\\nTop negative:\")\n",
    "print_state_features(collections.Counter(crf.state_features_).most_common()[-15:])"
   ]
  },
  {
   "cell_type": "code",
   "execution_count": 15,
   "metadata": {
    "collapsed": false
   },
   "outputs": [
    {
     "data": {
      "text/plain": [
       "\"\\ndef transformStrCategoriesIntoInts(vector):\\n    res = []\\n    for el in vector:\\n        if el == 'none' or el == 'None':\\n            res.append(0)\\n        elif el == 'mechanism':\\n            res.append(1)\\n        elif el == 'effect':\\n            res.append(2)\\n        elif el == 'int':\\n            res.append(3)\\n        elif el == 'advise':\\n            res.append(4)\\n        else:\\n            print(el)\\n            print(type(el))\\n            print(vector.index(el))\\n    return(res)\\n\""
      ]
     },
     "execution_count": 15,
     "metadata": {},
     "output_type": "execute_result"
    }
   ],
   "source": [
    "'''\n",
    "def transformStrCategoriesIntoInts(vector):\n",
    "    res = []\n",
    "    for el in vector:\n",
    "        if el == 'none' or el == 'None':\n",
    "            res.append(0)\n",
    "        elif el == 'mechanism':\n",
    "            res.append(1)\n",
    "        elif el == 'effect':\n",
    "            res.append(2)\n",
    "        elif el == 'int':\n",
    "            res.append(3)\n",
    "        elif el == 'advise':\n",
    "            res.append(4)\n",
    "        else:\n",
    "            print(el)\n",
    "            print(type(el))\n",
    "            print(vector.index(el))\n",
    "    return(res)\n",
    "'''"
   ]
  }
 ],
 "metadata": {
  "kernelspec": {
   "display_name": "Python [Root]",
   "language": "python",
   "name": "Python [Root]"
  },
  "language_info": {
   "codemirror_mode": {
    "name": "ipython",
    "version": 3
   },
   "file_extension": ".py",
   "mimetype": "text/x-python",
   "name": "python",
   "nbconvert_exporter": "python",
   "pygments_lexer": "ipython3",
   "version": "3.5.2"
  }
 },
 "nbformat": 4,
 "nbformat_minor": 0
}
